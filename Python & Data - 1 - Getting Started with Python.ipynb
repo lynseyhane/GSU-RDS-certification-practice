{
 "cells": [
  {
   "cell_type": "markdown",
   "metadata": {},
   "source": [
    "# RDS@GSU - PYTHON & DATA 1: INTRO TO PYTHON FOR DATA ANALYSIS"
   ]
  },
  {
   "cell_type": "markdown",
   "metadata": {},
   "source": [
    "#### Copyright + References"
   ]
  },
  {
   "cell_type": "code",
   "execution_count": 3,
   "metadata": {},
   "outputs": [],
   "source": [
    "# The content in this notebook was developed by Jeremy Walker.\n",
    "# All sample code and notes are provided under a Creative Commons\n",
    "# ShareAlike license.\n",
    "\n",
    "# Official Copyright Rules / Restrictions / Priveleges\n",
    "# Attribution-ShareAlike 4.0 International (CC BY-SA 4.0)\n",
    "# https://creativecommons.org/licenses/by-sa/4.0/\n",
    "\n",
    "# Datasets used in this workshop are originally sourced from \n",
    "# the \"CAR\" package in R:\n",
    "# Fox, J., & Weisberg, S. (2019). An R companion to applied\n",
    "# regression (Third edition). SAGE."
   ]
  },
  {
   "cell_type": "markdown",
   "metadata": {},
   "source": [
    "# Part 0 - Using the Python and the Jupyter Notebook Interface"
   ]
  },
  {
   "cell_type": "code",
   "execution_count": 4,
   "metadata": {},
   "outputs": [],
   "source": [
    "# \"#\" Represent annotations or comments in Python.  I tend to make heavy use of annotations throughout workshops\n",
    "# and code.  In this case it is meant to help you understand the code presented.  But you may want to make heavy \n",
    "# use of your own annotations in order to make your code more readable, interpretable, and sustainable."
   ]
  },
  {
   "cell_type": "markdown",
   "metadata": {},
   "source": [
    "\n",
    "### SHIFT + ENTER\n",
    "runs the selected cell and advances the cursor to the next cell\n",
    "\n",
    "### CTRL + ENTER\n",
    "runs the selected cell, but does NOT advance the cursor to the next cell\n",
    "\n",
    "### ALT + ENTER\n",
    "run the selected cell, and inserts a new cell between the current and following cell, and then advances the cursor to the newly inserted cell"
   ]
  },
  {
   "cell_type": "code",
   "execution_count": 4,
   "metadata": {},
   "outputs": [
    {
     "data": {
      "text/plain": [
       "3"
      ]
     },
     "execution_count": 4,
     "metadata": {},
     "output_type": "execute_result"
    }
   ],
   "source": [
    "# Numbers are simply represented as digits.\n",
    "3"
   ]
  },
  {
   "cell_type": "code",
   "execution_count": 5,
   "metadata": {},
   "outputs": [
    {
     "data": {
      "text/plain": [
       "5.25"
      ]
     },
     "execution_count": 5,
     "metadata": {},
     "output_type": "execute_result"
    }
   ],
   "source": [
    "# You can also perform simple math operations by default.\n",
    "# Be wary order-of-operations.  I advise useing ( ) heavily!\n",
    "3 + ((3 / 2)**2)"
   ]
  },
  {
   "cell_type": "code",
   "execution_count": 6,
   "metadata": {},
   "outputs": [
    {
     "data": {
      "text/plain": [
       "'3'"
      ]
     },
     "execution_count": 6,
     "metadata": {},
     "output_type": "execute_result"
    }
   ],
   "source": [
    "# Strings (literal text) are represented using single or double quotes: 'text'  \"text\"\n",
    "# The output will also reflect this disctinction by including quotes around the\n",
    "# default output.\n",
    "\"3\""
   ]
  },
  {
   "cell_type": "code",
   "execution_count": 7,
   "metadata": {},
   "outputs": [
    {
     "data": {
      "text/plain": [
       "6"
      ]
     },
     "execution_count": 7,
     "metadata": {},
     "output_type": "execute_result"
    }
   ],
   "source": [
    "# You can do some strange operations using strings, but be careful!\n",
    "3 + 3"
   ]
  },
  {
   "cell_type": "code",
   "execution_count": 8,
   "metadata": {},
   "outputs": [
    {
     "data": {
      "text/plain": [
       "'33'"
      ]
     },
     "execution_count": 8,
     "metadata": {},
     "output_type": "execute_result"
    }
   ],
   "source": [
    "\"3\" + \"3\""
   ]
  },
  {
   "cell_type": "code",
   "execution_count": 9,
   "metadata": {},
   "outputs": [
    {
     "data": {
      "text/plain": [
       "'3a'"
      ]
     },
     "execution_count": 9,
     "metadata": {},
     "output_type": "execute_result"
    }
   ],
   "source": [
    "\"3\" + \"a\""
   ]
  },
  {
   "cell_type": "code",
   "execution_count": 10,
   "metadata": {},
   "outputs": [
    {
     "ename": "TypeError",
     "evalue": "can only concatenate str (not \"int\") to str",
     "output_type": "error",
     "traceback": [
      "\u001b[1;31m---------------------------------------------------------------------------\u001b[0m",
      "\u001b[1;31mTypeError\u001b[0m                                 Traceback (most recent call last)",
      "\u001b[1;32m<ipython-input-10-763d1d855e8a>\u001b[0m in \u001b[0;36m<module>\u001b[1;34m\u001b[0m\n\u001b[0;32m      4\u001b[0m \u001b[1;31m# your code.\u001b[0m\u001b[1;33m\u001b[0m\u001b[1;33m\u001b[0m\u001b[1;33m\u001b[0m\u001b[0m\n\u001b[0;32m      5\u001b[0m \u001b[1;33m\u001b[0m\u001b[0m\n\u001b[1;32m----> 6\u001b[1;33m \u001b[1;34m\"a\"\u001b[0m \u001b[1;33m+\u001b[0m \u001b[1;36m3\u001b[0m\u001b[1;33m\u001b[0m\u001b[1;33m\u001b[0m\u001b[0m\n\u001b[0m",
      "\u001b[1;31mTypeError\u001b[0m: can only concatenate str (not \"int\") to str"
     ]
    }
   ],
   "source": [
    "# If you attempt to do STUFF (operations, functions, processes) with mismatched types \n",
    "# of data, you are likely to get errors.  Don't panic, this will happen a lot as you start\n",
    "# using Python for the first time. Just treat it as an opportunity to learn and inspect\n",
    "# your code.\n",
    "\n",
    "\"a\" + 3"
   ]
  },
  {
   "cell_type": "code",
   "execution_count": 12,
   "metadata": {},
   "outputs": [],
   "source": [
    "# \"Objects\", sometimes referred to as \"variables\" in Python are the core building block for \n",
    "# who you will structure and organize your code.  Objects can represent singular values, \n",
    "# complex tables of data, statistical models, and many other things.  What is important to \n",
    "# understand is that the object can be represented by its own unique name, then than object \n",
    "# can be invoked to do stuff and things later on.\n",
    "\n",
    "# To create or update an object, simply use the \"=\" with the object on the left and the value/data/information on the right\n",
    "# EXAMPLE SYNTAX: objectName = value\n",
    "# EXAMPLE SYNTAX: x = 3\n",
    "\n",
    "x = 3"
   ]
  },
  {
   "cell_type": "code",
   "execution_count": 13,
   "metadata": {},
   "outputs": [
    {
     "data": {
      "text/plain": [
       "102"
      ]
     },
     "execution_count": 13,
     "metadata": {},
     "output_type": "execute_result"
    }
   ],
   "source": [
    "# Perform additional operations\n",
    "x + 99"
   ]
  },
  {
   "cell_type": "code",
   "execution_count": 14,
   "metadata": {},
   "outputs": [
    {
     "data": {
      "text/plain": [
       "3"
      ]
     },
     "execution_count": 14,
     "metadata": {},
     "output_type": "execute_result"
    }
   ],
   "source": [
    "# For now, x remains unchanged\n",
    "x"
   ]
  },
  {
   "cell_type": "code",
   "execution_count": 15,
   "metadata": {},
   "outputs": [],
   "source": [
    "# You can also update and overwrite objects\n",
    "x = x + 17"
   ]
  },
  {
   "cell_type": "code",
   "execution_count": 17,
   "metadata": {},
   "outputs": [
    {
     "data": {
      "text/plain": [
       "20"
      ]
     },
     "execution_count": 17,
     "metadata": {},
     "output_type": "execute_result"
    }
   ],
   "source": [
    "x\n",
    "#not sure what is going on what the next number calculation it seems to be - wrong? 17 + 3 ? is not 37"
   ]
  },
  {
   "cell_type": "code",
   "execution_count": 18,
   "metadata": {},
   "outputs": [],
   "source": [
    "# Object names can be entirely arbitrary, non-sensical, and unrelated to its underlying components.\n",
    "\n",
    "harrypotter = \"samwise gamgee\""
   ]
  },
  {
   "cell_type": "code",
   "execution_count": 19,
   "metadata": {},
   "outputs": [
    {
     "data": {
      "text/plain": [
       "'samwise gamgee'"
      ]
     },
     "execution_count": 19,
     "metadata": {},
     "output_type": "execute_result"
    }
   ],
   "source": [
    "harrypotter"
   ]
  },
  {
   "cell_type": "code",
   "execution_count": 21,
   "metadata": {},
   "outputs": [
    {
     "data": {
      "text/plain": [
       "str"
      ]
     },
     "execution_count": 21,
     "metadata": {},
     "output_type": "execute_result"
    }
   ],
   "source": [
    "# The first function worth really knowing about is type(...).\n",
    "# All this does is looks at the value or object inside of type(...) and tell you \"what\" it is. \n",
    "# The answer might be a simple \"str\" for string or \"int\" for integer.  However, you may find references\n",
    "# to much more complex data and object types.  This can be helpful when debugging your code and trying \n",
    "# to resolve errors.\n",
    "\n",
    "type(harrypotter)"
   ]
  },
  {
   "cell_type": "markdown",
   "metadata": {},
   "source": [
    "# Part 1 - Introduction and opening data files"
   ]
  },
  {
   "cell_type": "code",
   "execution_count": null,
   "metadata": {},
   "outputs": [],
   "source": [
    "# In Python, there is an immense number of \"modules\" that allow users\n",
    "# to perform a variety of pre-defined tasks and operations.  Learning\n",
    "# to identify modules that are useful, accessible, and stable is a core\n",
    "# part of becoming a Python user. For example, in raw Python code, \n",
    "# opening a CSV file may take 3-4 lines of code. Meanwhile, using a \n",
    "# module named Pandas, the same operation only takes a single line of code. "
   ]
  },
  {
   "cell_type": "code",
   "execution_count": null,
   "metadata": {},
   "outputs": [],
   "source": [
    "# We first need to import and activate a tool called \"Pandas\" Pandas is\n",
    "# one of the best and most user-friendly data-analysis modules in Python\n",
    "# If you are familiar with Excel, SQL, or R, a lot of Pandas utilities\n",
    "# will feel familiar to you. To import a package, you will follow a \n",
    "# standard pattern. \n",
    "\n",
    "# NOTE: If you ever get an error saying that \"there is no module named....\",\n",
    "# then you will need to open the \"Anaconda Prompt\" program and run \n",
    "# the command \"conda install modulename\""
   ]
  },
  {
   "cell_type": "code",
   "execution_count": 22,
   "metadata": {},
   "outputs": [],
   "source": [
    "# EXAMPLE SYNTAX: import packagename as abbrev\n",
    "\n",
    "import pandas as pd"
   ]
  },
  {
   "cell_type": "code",
   "execution_count": 24,
   "metadata": {},
   "outputs": [
    {
     "data": {
      "text/plain": [
       "<function pandas.io.parsers.read_csv(filepath_or_buffer: Union[str, pathlib.Path, IO[~AnyStr]], sep=',', delimiter=None, header='infer', names=None, index_col=None, usecols=None, squeeze=False, prefix=None, mangle_dupe_cols=True, dtype=None, engine=None, converters=None, true_values=None, false_values=None, skipinitialspace=False, skiprows=None, skipfooter=0, nrows=None, na_values=None, keep_default_na=True, na_filter=True, verbose=False, skip_blank_lines=True, parse_dates=False, infer_datetime_format=False, keep_date_col=False, date_parser=None, dayfirst=False, cache_dates=True, iterator=False, chunksize=None, compression='infer', thousands=None, decimal: str = '.', lineterminator=None, quotechar='\"', quoting=0, doublequote=True, escapechar=None, comment=None, encoding=None, dialect=None, error_bad_lines=True, warn_bad_lines=True, delim_whitespace=False, low_memory=True, memory_map=False, float_precision=None)>"
      ]
     },
     "execution_count": 24,
     "metadata": {},
     "output_type": "execute_result"
    }
   ],
   "source": [
    "# Once you've loaded a module, you can then use its pre-defined functions.\n",
    "# For example, to tell Pandas to open a CSV file, we simply type \n",
    "# pd.read_csv(\"filename.csv\")\n",
    "\n",
    "# EXAMPLE SYNTAX: abbrev.function(...)\n",
    "\n",
    "pd.read_csv(\"salaries.csv\")\n",
    "\n",
    "pd.read_csv"
   ]
  },
  {
   "cell_type": "code",
   "execution_count": 28,
   "metadata": {},
   "outputs": [],
   "source": [
    "# Pandas has the power to read many different filetypes. Just a note of\n",
    "# caution, each filetype may have unique requirements or options.  I have\n",
    "# noted this as \"...\" in the examples below.  You will need to read the\n",
    "# documentation to make sure you are importing the data correctly.\n",
    "\n",
    "# Excel\n",
    "# pd.read_excel(\"filename.xlsx\",...)\n",
    "\n",
    "# SAS\n",
    "# pd.read_sas(\"filename.sas7bdat\",...)\n",
    "# pd.read_sas(\"filename.xport\",...)\n",
    "\n",
    "# SPSS\n",
    "# pd.read_spss(\"filename.sav\",...)\n",
    "\n",
    "# STATA\n",
    "# pd.read_stata(\"filename.dta\",...)"
   ]
  },
  {
   "cell_type": "code",
   "execution_count": 29,
   "metadata": {},
   "outputs": [],
   "source": [
    "# Using the code from above, we can use Pandas (pd) to open a CSV file \n",
    "# (read_csv) and then assign all of that information to a new object I will\n",
    "# call \"df\". NOTE: \"df\" is just a common placeholder name you will see when\n",
    "# looking up support and documentation online. You could just as easily\n",
    "# use other object names (e.g. \"data_wave1\" or \"raw_data\").\n",
    "\n",
    "df = pd.read_csv(\"salaries.csv\")"
   ]
  },
  {
   "cell_type": "code",
   "execution_count": 28,
   "metadata": {},
   "outputs": [
    {
     "data": {
      "text/html": [
       "<div>\n",
       "<style scoped>\n",
       "    .dataframe tbody tr th:only-of-type {\n",
       "        vertical-align: middle;\n",
       "    }\n",
       "\n",
       "    .dataframe tbody tr th {\n",
       "        vertical-align: top;\n",
       "    }\n",
       "\n",
       "    .dataframe thead th {\n",
       "        text-align: right;\n",
       "    }\n",
       "</style>\n",
       "<table border=\"1\" class=\"dataframe\">\n",
       "  <thead>\n",
       "    <tr style=\"text-align: right;\">\n",
       "      <th></th>\n",
       "      <th>rank</th>\n",
       "      <th>discipline</th>\n",
       "      <th>yrs_since_phd</th>\n",
       "      <th>yrs_service</th>\n",
       "      <th>sex</th>\n",
       "      <th>salary</th>\n",
       "    </tr>\n",
       "  </thead>\n",
       "  <tbody>\n",
       "    <tr>\n",
       "      <th>0</th>\n",
       "      <td>Prof</td>\n",
       "      <td>B</td>\n",
       "      <td>19</td>\n",
       "      <td>18</td>\n",
       "      <td>Male</td>\n",
       "      <td>139750</td>\n",
       "    </tr>\n",
       "    <tr>\n",
       "      <th>1</th>\n",
       "      <td>Prof</td>\n",
       "      <td>B</td>\n",
       "      <td>20</td>\n",
       "      <td>16</td>\n",
       "      <td>Male</td>\n",
       "      <td>173200</td>\n",
       "    </tr>\n",
       "    <tr>\n",
       "      <th>2</th>\n",
       "      <td>AsstProf</td>\n",
       "      <td>B</td>\n",
       "      <td>4</td>\n",
       "      <td>3</td>\n",
       "      <td>Male</td>\n",
       "      <td>79750</td>\n",
       "    </tr>\n",
       "    <tr>\n",
       "      <th>3</th>\n",
       "      <td>Prof</td>\n",
       "      <td>B</td>\n",
       "      <td>45</td>\n",
       "      <td>39</td>\n",
       "      <td>Male</td>\n",
       "      <td>115000</td>\n",
       "    </tr>\n",
       "    <tr>\n",
       "      <th>4</th>\n",
       "      <td>Prof</td>\n",
       "      <td>B</td>\n",
       "      <td>40</td>\n",
       "      <td>41</td>\n",
       "      <td>Male</td>\n",
       "      <td>141500</td>\n",
       "    </tr>\n",
       "    <tr>\n",
       "      <th>...</th>\n",
       "      <td>...</td>\n",
       "      <td>...</td>\n",
       "      <td>...</td>\n",
       "      <td>...</td>\n",
       "      <td>...</td>\n",
       "      <td>...</td>\n",
       "    </tr>\n",
       "    <tr>\n",
       "      <th>392</th>\n",
       "      <td>Prof</td>\n",
       "      <td>A</td>\n",
       "      <td>33</td>\n",
       "      <td>30</td>\n",
       "      <td>Male</td>\n",
       "      <td>103106</td>\n",
       "    </tr>\n",
       "    <tr>\n",
       "      <th>393</th>\n",
       "      <td>Prof</td>\n",
       "      <td>A</td>\n",
       "      <td>31</td>\n",
       "      <td>19</td>\n",
       "      <td>Male</td>\n",
       "      <td>150564</td>\n",
       "    </tr>\n",
       "    <tr>\n",
       "      <th>394</th>\n",
       "      <td>Prof</td>\n",
       "      <td>A</td>\n",
       "      <td>42</td>\n",
       "      <td>25</td>\n",
       "      <td>Male</td>\n",
       "      <td>101738</td>\n",
       "    </tr>\n",
       "    <tr>\n",
       "      <th>395</th>\n",
       "      <td>Prof</td>\n",
       "      <td>A</td>\n",
       "      <td>25</td>\n",
       "      <td>15</td>\n",
       "      <td>Male</td>\n",
       "      <td>95329</td>\n",
       "    </tr>\n",
       "    <tr>\n",
       "      <th>396</th>\n",
       "      <td>AsstProf</td>\n",
       "      <td>A</td>\n",
       "      <td>8</td>\n",
       "      <td>4</td>\n",
       "      <td>Male</td>\n",
       "      <td>81035</td>\n",
       "    </tr>\n",
       "  </tbody>\n",
       "</table>\n",
       "<p>397 rows × 6 columns</p>\n",
       "</div>"
      ],
      "text/plain": [
       "         rank discipline  yrs_since_phd  yrs_service   sex  salary\n",
       "0        Prof          B             19           18  Male  139750\n",
       "1        Prof          B             20           16  Male  173200\n",
       "2    AsstProf          B              4            3  Male   79750\n",
       "3        Prof          B             45           39  Male  115000\n",
       "4        Prof          B             40           41  Male  141500\n",
       "..        ...        ...            ...          ...   ...     ...\n",
       "392      Prof          A             33           30  Male  103106\n",
       "393      Prof          A             31           19  Male  150564\n",
       "394      Prof          A             42           25  Male  101738\n",
       "395      Prof          A             25           15  Male   95329\n",
       "396  AsstProf          A              8            4  Male   81035\n",
       "\n",
       "[397 rows x 6 columns]"
      ]
     },
     "execution_count": 28,
     "metadata": {},
     "output_type": "execute_result"
    }
   ],
   "source": [
    "df"
   ]
  },
  {
   "cell_type": "code",
   "execution_count": 30,
   "metadata": {},
   "outputs": [
    {
     "data": {
      "text/plain": [
       "pandas.core.frame.DataFrame"
      ]
     },
     "execution_count": 30,
     "metadata": {},
     "output_type": "execute_result"
    }
   ],
   "source": [
    "type(df)"
   ]
  },
  {
   "cell_type": "markdown",
   "metadata": {},
   "source": [
    "# Part 2 -Descriptive Statistics"
   ]
  },
  {
   "cell_type": "code",
   "execution_count": 31,
   "metadata": {},
   "outputs": [
    {
     "data": {
      "text/html": [
       "<div>\n",
       "<style scoped>\n",
       "    .dataframe tbody tr th:only-of-type {\n",
       "        vertical-align: middle;\n",
       "    }\n",
       "\n",
       "    .dataframe tbody tr th {\n",
       "        vertical-align: top;\n",
       "    }\n",
       "\n",
       "    .dataframe thead th {\n",
       "        text-align: right;\n",
       "    }\n",
       "</style>\n",
       "<table border=\"1\" class=\"dataframe\">\n",
       "  <thead>\n",
       "    <tr style=\"text-align: right;\">\n",
       "      <th></th>\n",
       "      <th>rank</th>\n",
       "      <th>discipline</th>\n",
       "      <th>yrs_since_phd</th>\n",
       "      <th>yrs_service</th>\n",
       "      <th>sex</th>\n",
       "      <th>salary</th>\n",
       "    </tr>\n",
       "  </thead>\n",
       "  <tbody>\n",
       "    <tr>\n",
       "      <th>0</th>\n",
       "      <td>Prof</td>\n",
       "      <td>B</td>\n",
       "      <td>19</td>\n",
       "      <td>18</td>\n",
       "      <td>Male</td>\n",
       "      <td>139750</td>\n",
       "    </tr>\n",
       "    <tr>\n",
       "      <th>1</th>\n",
       "      <td>Prof</td>\n",
       "      <td>B</td>\n",
       "      <td>20</td>\n",
       "      <td>16</td>\n",
       "      <td>Male</td>\n",
       "      <td>173200</td>\n",
       "    </tr>\n",
       "    <tr>\n",
       "      <th>2</th>\n",
       "      <td>AsstProf</td>\n",
       "      <td>B</td>\n",
       "      <td>4</td>\n",
       "      <td>3</td>\n",
       "      <td>Male</td>\n",
       "      <td>79750</td>\n",
       "    </tr>\n",
       "    <tr>\n",
       "      <th>3</th>\n",
       "      <td>Prof</td>\n",
       "      <td>B</td>\n",
       "      <td>45</td>\n",
       "      <td>39</td>\n",
       "      <td>Male</td>\n",
       "      <td>115000</td>\n",
       "    </tr>\n",
       "    <tr>\n",
       "      <th>4</th>\n",
       "      <td>Prof</td>\n",
       "      <td>B</td>\n",
       "      <td>40</td>\n",
       "      <td>41</td>\n",
       "      <td>Male</td>\n",
       "      <td>141500</td>\n",
       "    </tr>\n",
       "    <tr>\n",
       "      <th>5</th>\n",
       "      <td>AssocProf</td>\n",
       "      <td>B</td>\n",
       "      <td>6</td>\n",
       "      <td>6</td>\n",
       "      <td>Male</td>\n",
       "      <td>97000</td>\n",
       "    </tr>\n",
       "    <tr>\n",
       "      <th>6</th>\n",
       "      <td>Prof</td>\n",
       "      <td>B</td>\n",
       "      <td>30</td>\n",
       "      <td>23</td>\n",
       "      <td>Male</td>\n",
       "      <td>175000</td>\n",
       "    </tr>\n",
       "  </tbody>\n",
       "</table>\n",
       "</div>"
      ],
      "text/plain": [
       "        rank discipline  yrs_since_phd  yrs_service   sex  salary\n",
       "0       Prof          B             19           18  Male  139750\n",
       "1       Prof          B             20           16  Male  173200\n",
       "2   AsstProf          B              4            3  Male   79750\n",
       "3       Prof          B             45           39  Male  115000\n",
       "4       Prof          B             40           41  Male  141500\n",
       "5  AssocProf          B              6            6  Male   97000\n",
       "6       Prof          B             30           23  Male  175000"
      ]
     },
     "execution_count": 31,
     "metadata": {},
     "output_type": "execute_result"
    }
   ],
   "source": [
    "# Many objects in Python will have \"methods\" that allow you to do something\n",
    "# additional to or with the values stored in the object.\n",
    "\n",
    "# EXAMPLE SYNTAX objectName.methodName(...)\n",
    "\n",
    "# In the example below, we can use a method called \"head\" for a DataFrame\n",
    "\n",
    "df.head()\n",
    "\n",
    "df.head(7)"
   ]
  },
  {
   "cell_type": "code",
   "execution_count": 14,
   "metadata": {},
   "outputs": [
    {
     "data": {
      "text/html": [
       "<div>\n",
       "<style scoped>\n",
       "    .dataframe tbody tr th:only-of-type {\n",
       "        vertical-align: middle;\n",
       "    }\n",
       "\n",
       "    .dataframe tbody tr th {\n",
       "        vertical-align: top;\n",
       "    }\n",
       "\n",
       "    .dataframe thead th {\n",
       "        text-align: right;\n",
       "    }\n",
       "</style>\n",
       "<table border=\"1\" class=\"dataframe\">\n",
       "  <thead>\n",
       "    <tr style=\"text-align: right;\">\n",
       "      <th></th>\n",
       "      <th>rank</th>\n",
       "      <th>discipline</th>\n",
       "      <th>yrs_since_phd</th>\n",
       "      <th>yrs_service</th>\n",
       "      <th>sex</th>\n",
       "      <th>salary</th>\n",
       "    </tr>\n",
       "  </thead>\n",
       "  <tbody>\n",
       "    <tr>\n",
       "      <th>0</th>\n",
       "      <td>Prof</td>\n",
       "      <td>B</td>\n",
       "      <td>19</td>\n",
       "      <td>18</td>\n",
       "      <td>Male</td>\n",
       "      <td>139750</td>\n",
       "    </tr>\n",
       "    <tr>\n",
       "      <th>1</th>\n",
       "      <td>Prof</td>\n",
       "      <td>B</td>\n",
       "      <td>20</td>\n",
       "      <td>16</td>\n",
       "      <td>Male</td>\n",
       "      <td>173200</td>\n",
       "    </tr>\n",
       "    <tr>\n",
       "      <th>2</th>\n",
       "      <td>AsstProf</td>\n",
       "      <td>B</td>\n",
       "      <td>4</td>\n",
       "      <td>3</td>\n",
       "      <td>Male</td>\n",
       "      <td>79750</td>\n",
       "    </tr>\n",
       "  </tbody>\n",
       "</table>\n",
       "</div>"
      ],
      "text/plain": [
       "       rank discipline  yrs_since_phd  yrs_service   sex  salary\n",
       "0      Prof          B             19           18  Male  139750\n",
       "1      Prof          B             20           16  Male  173200\n",
       "2  AsstProf          B              4            3  Male   79750"
      ]
     },
     "execution_count": 14,
     "metadata": {},
     "output_type": "execute_result"
    }
   ],
   "source": [
    "# You can specify a different number in head(#)\n",
    "df.head(3)"
   ]
  },
  {
   "cell_type": "code",
   "execution_count": 39,
   "metadata": {},
   "outputs": [
    {
     "data": {
      "text/html": [
       "<div>\n",
       "<style scoped>\n",
       "    .dataframe tbody tr th:only-of-type {\n",
       "        vertical-align: middle;\n",
       "    }\n",
       "\n",
       "    .dataframe tbody tr th {\n",
       "        vertical-align: top;\n",
       "    }\n",
       "\n",
       "    .dataframe thead th {\n",
       "        text-align: right;\n",
       "    }\n",
       "</style>\n",
       "<table border=\"1\" class=\"dataframe\">\n",
       "  <thead>\n",
       "    <tr style=\"text-align: right;\">\n",
       "      <th></th>\n",
       "      <th>rank</th>\n",
       "      <th>discipline</th>\n",
       "      <th>yrs_since_phd</th>\n",
       "      <th>yrs_service</th>\n",
       "      <th>sex</th>\n",
       "      <th>salary</th>\n",
       "    </tr>\n",
       "  </thead>\n",
       "  <tbody>\n",
       "    <tr>\n",
       "      <th>392</th>\n",
       "      <td>Prof</td>\n",
       "      <td>A</td>\n",
       "      <td>33</td>\n",
       "      <td>30</td>\n",
       "      <td>Male</td>\n",
       "      <td>103106</td>\n",
       "    </tr>\n",
       "    <tr>\n",
       "      <th>393</th>\n",
       "      <td>Prof</td>\n",
       "      <td>A</td>\n",
       "      <td>31</td>\n",
       "      <td>19</td>\n",
       "      <td>Male</td>\n",
       "      <td>150564</td>\n",
       "    </tr>\n",
       "    <tr>\n",
       "      <th>394</th>\n",
       "      <td>Prof</td>\n",
       "      <td>A</td>\n",
       "      <td>42</td>\n",
       "      <td>25</td>\n",
       "      <td>Male</td>\n",
       "      <td>101738</td>\n",
       "    </tr>\n",
       "    <tr>\n",
       "      <th>395</th>\n",
       "      <td>Prof</td>\n",
       "      <td>A</td>\n",
       "      <td>25</td>\n",
       "      <td>15</td>\n",
       "      <td>Male</td>\n",
       "      <td>95329</td>\n",
       "    </tr>\n",
       "    <tr>\n",
       "      <th>396</th>\n",
       "      <td>AsstProf</td>\n",
       "      <td>A</td>\n",
       "      <td>8</td>\n",
       "      <td>4</td>\n",
       "      <td>Male</td>\n",
       "      <td>81035</td>\n",
       "    </tr>\n",
       "  </tbody>\n",
       "</table>\n",
       "</div>"
      ],
      "text/plain": [
       "         rank discipline  yrs_since_phd  yrs_service   sex  salary\n",
       "392      Prof          A             33           30  Male  103106\n",
       "393      Prof          A             31           19  Male  150564\n",
       "394      Prof          A             42           25  Male  101738\n",
       "395      Prof          A             25           15  Male   95329\n",
       "396  AsstProf          A              8            4  Male   81035"
      ]
     },
     "execution_count": 39,
     "metadata": {},
     "output_type": "execute_result"
    }
   ],
   "source": [
    "# The same pattern applies for the method \"tail\"\n",
    "df.tail()"
   ]
  },
  {
   "cell_type": "code",
   "execution_count": 44,
   "metadata": {},
   "outputs": [
    {
     "data": {
      "text/html": [
       "<div>\n",
       "<style scoped>\n",
       "    .dataframe tbody tr th:only-of-type {\n",
       "        vertical-align: middle;\n",
       "    }\n",
       "\n",
       "    .dataframe tbody tr th {\n",
       "        vertical-align: top;\n",
       "    }\n",
       "\n",
       "    .dataframe thead th {\n",
       "        text-align: right;\n",
       "    }\n",
       "</style>\n",
       "<table border=\"1\" class=\"dataframe\">\n",
       "  <thead>\n",
       "    <tr style=\"text-align: right;\">\n",
       "      <th></th>\n",
       "      <th>rank</th>\n",
       "      <th>discipline</th>\n",
       "      <th>yrs_since_phd</th>\n",
       "      <th>yrs_service</th>\n",
       "      <th>sex</th>\n",
       "      <th>salary</th>\n",
       "    </tr>\n",
       "  </thead>\n",
       "  <tbody>\n",
       "    <tr>\n",
       "      <th>390</th>\n",
       "      <td>Prof</td>\n",
       "      <td>A</td>\n",
       "      <td>40</td>\n",
       "      <td>19</td>\n",
       "      <td>Male</td>\n",
       "      <td>166605</td>\n",
       "    </tr>\n",
       "    <tr>\n",
       "      <th>391</th>\n",
       "      <td>Prof</td>\n",
       "      <td>A</td>\n",
       "      <td>30</td>\n",
       "      <td>19</td>\n",
       "      <td>Male</td>\n",
       "      <td>151292</td>\n",
       "    </tr>\n",
       "    <tr>\n",
       "      <th>392</th>\n",
       "      <td>Prof</td>\n",
       "      <td>A</td>\n",
       "      <td>33</td>\n",
       "      <td>30</td>\n",
       "      <td>Male</td>\n",
       "      <td>103106</td>\n",
       "    </tr>\n",
       "    <tr>\n",
       "      <th>393</th>\n",
       "      <td>Prof</td>\n",
       "      <td>A</td>\n",
       "      <td>31</td>\n",
       "      <td>19</td>\n",
       "      <td>Male</td>\n",
       "      <td>150564</td>\n",
       "    </tr>\n",
       "    <tr>\n",
       "      <th>394</th>\n",
       "      <td>Prof</td>\n",
       "      <td>A</td>\n",
       "      <td>42</td>\n",
       "      <td>25</td>\n",
       "      <td>Male</td>\n",
       "      <td>101738</td>\n",
       "    </tr>\n",
       "    <tr>\n",
       "      <th>395</th>\n",
       "      <td>Prof</td>\n",
       "      <td>A</td>\n",
       "      <td>25</td>\n",
       "      <td>15</td>\n",
       "      <td>Male</td>\n",
       "      <td>95329</td>\n",
       "    </tr>\n",
       "    <tr>\n",
       "      <th>396</th>\n",
       "      <td>AsstProf</td>\n",
       "      <td>A</td>\n",
       "      <td>8</td>\n",
       "      <td>4</td>\n",
       "      <td>Male</td>\n",
       "      <td>81035</td>\n",
       "    </tr>\n",
       "  </tbody>\n",
       "</table>\n",
       "</div>"
      ],
      "text/plain": [
       "         rank discipline  yrs_since_phd  yrs_service   sex  salary\n",
       "390      Prof          A             40           19  Male  166605\n",
       "391      Prof          A             30           19  Male  151292\n",
       "392      Prof          A             33           30  Male  103106\n",
       "393      Prof          A             31           19  Male  150564\n",
       "394      Prof          A             42           25  Male  101738\n",
       "395      Prof          A             25           15  Male   95329\n",
       "396  AsstProf          A              8            4  Male   81035"
      ]
     },
     "execution_count": 44,
     "metadata": {},
     "output_type": "execute_result"
    }
   ],
   "source": [
    "df.tail(7)"
   ]
  },
  {
   "cell_type": "code",
   "execution_count": 41,
   "metadata": {},
   "outputs": [
    {
     "data": {
      "text/plain": [
       "rank             object\n",
       "discipline       object\n",
       "yrs_since_phd     int64\n",
       "yrs_service       int64\n",
       "sex              object\n",
       "salary            int64\n",
       "dtype: object"
      ]
     },
     "execution_count": 41,
     "metadata": {},
     "output_type": "execute_result"
    }
   ],
   "source": [
    "# \"dytpes\" will give us some insight into what types of data are encoded\n",
    "# in the dataframe. Sometimes this will give you clues as to where data \n",
    "# is missing, corrupt, or needing conversion.\n",
    "\n",
    "df.dtypes"
   ]
  },
  {
   "cell_type": "code",
   "execution_count": 45,
   "metadata": {},
   "outputs": [
    {
     "data": {
      "text/html": [
       "<div>\n",
       "<style scoped>\n",
       "    .dataframe tbody tr th:only-of-type {\n",
       "        vertical-align: middle;\n",
       "    }\n",
       "\n",
       "    .dataframe tbody tr th {\n",
       "        vertical-align: top;\n",
       "    }\n",
       "\n",
       "    .dataframe thead th {\n",
       "        text-align: right;\n",
       "    }\n",
       "</style>\n",
       "<table border=\"1\" class=\"dataframe\">\n",
       "  <thead>\n",
       "    <tr style=\"text-align: right;\">\n",
       "      <th></th>\n",
       "      <th>rank</th>\n",
       "      <th>discipline</th>\n",
       "      <th>yrs_since_phd</th>\n",
       "      <th>yrs_service</th>\n",
       "      <th>sex</th>\n",
       "      <th>salary</th>\n",
       "    </tr>\n",
       "  </thead>\n",
       "  <tbody>\n",
       "    <tr>\n",
       "      <th>364</th>\n",
       "      <td>Prof</td>\n",
       "      <td>A</td>\n",
       "      <td>43</td>\n",
       "      <td>43</td>\n",
       "      <td>Male</td>\n",
       "      <td>205500</td>\n",
       "    </tr>\n",
       "  </tbody>\n",
       "</table>\n",
       "</div>"
      ],
      "text/plain": [
       "     rank discipline  yrs_since_phd  yrs_service   sex  salary\n",
       "364  Prof          A             43           43  Male  205500"
      ]
     },
     "execution_count": 45,
     "metadata": {},
     "output_type": "execute_result"
    }
   ],
   "source": [
    "# The \"sample\" method will draw a number of random samples from the dataframe.\n",
    "\n",
    "df.sample()"
   ]
  },
  {
   "cell_type": "code",
   "execution_count": 46,
   "metadata": {},
   "outputs": [
    {
     "data": {
      "text/html": [
       "<div>\n",
       "<style scoped>\n",
       "    .dataframe tbody tr th:only-of-type {\n",
       "        vertical-align: middle;\n",
       "    }\n",
       "\n",
       "    .dataframe tbody tr th {\n",
       "        vertical-align: top;\n",
       "    }\n",
       "\n",
       "    .dataframe thead th {\n",
       "        text-align: right;\n",
       "    }\n",
       "</style>\n",
       "<table border=\"1\" class=\"dataframe\">\n",
       "  <thead>\n",
       "    <tr style=\"text-align: right;\">\n",
       "      <th></th>\n",
       "      <th>rank</th>\n",
       "      <th>discipline</th>\n",
       "      <th>yrs_since_phd</th>\n",
       "      <th>yrs_service</th>\n",
       "      <th>sex</th>\n",
       "      <th>salary</th>\n",
       "    </tr>\n",
       "  </thead>\n",
       "  <tbody>\n",
       "    <tr>\n",
       "      <th>287</th>\n",
       "      <td>AsstProf</td>\n",
       "      <td>A</td>\n",
       "      <td>2</td>\n",
       "      <td>0</td>\n",
       "      <td>Male</td>\n",
       "      <td>85000</td>\n",
       "    </tr>\n",
       "    <tr>\n",
       "      <th>297</th>\n",
       "      <td>Prof</td>\n",
       "      <td>A</td>\n",
       "      <td>17</td>\n",
       "      <td>11</td>\n",
       "      <td>Male</td>\n",
       "      <td>148800</td>\n",
       "    </tr>\n",
       "  </tbody>\n",
       "</table>\n",
       "</div>"
      ],
      "text/plain": [
       "         rank discipline  yrs_since_phd  yrs_service   sex  salary\n",
       "287  AsstProf          A              2            0  Male   85000\n",
       "297      Prof          A             17           11  Male  148800"
      ]
     },
     "execution_count": 46,
     "metadata": {},
     "output_type": "execute_result"
    }
   ],
   "source": [
    "df.sample(2)"
   ]
  },
  {
   "cell_type": "code",
   "execution_count": 47,
   "metadata": {
    "scrolled": true
   },
   "outputs": [
    {
     "data": {
      "text/plain": [
       "\u001b[1;31mSignature:\u001b[0m\n",
       "\u001b[0mdf\u001b[0m\u001b[1;33m.\u001b[0m\u001b[0msample\u001b[0m\u001b[1;33m(\u001b[0m\u001b[1;33m\n",
       "\u001b[0m    \u001b[0mn\u001b[0m\u001b[1;33m=\u001b[0m\u001b[1;32mNone\u001b[0m\u001b[1;33m,\u001b[0m\u001b[1;33m\n",
       "\u001b[0m    \u001b[0mfrac\u001b[0m\u001b[1;33m=\u001b[0m\u001b[1;32mNone\u001b[0m\u001b[1;33m,\u001b[0m\u001b[1;33m\n",
       "\u001b[0m    \u001b[0mreplace\u001b[0m\u001b[1;33m=\u001b[0m\u001b[1;32mFalse\u001b[0m\u001b[1;33m,\u001b[0m\u001b[1;33m\n",
       "\u001b[0m    \u001b[0mweights\u001b[0m\u001b[1;33m=\u001b[0m\u001b[1;32mNone\u001b[0m\u001b[1;33m,\u001b[0m\u001b[1;33m\n",
       "\u001b[0m    \u001b[0mrandom_state\u001b[0m\u001b[1;33m=\u001b[0m\u001b[1;32mNone\u001b[0m\u001b[1;33m,\u001b[0m\u001b[1;33m\n",
       "\u001b[0m    \u001b[0maxis\u001b[0m\u001b[1;33m=\u001b[0m\u001b[1;32mNone\u001b[0m\u001b[1;33m,\u001b[0m\u001b[1;33m\n",
       "\u001b[0m\u001b[1;33m)\u001b[0m \u001b[1;33m->\u001b[0m \u001b[1;33m~\u001b[0m\u001b[0mFrameOrSeries\u001b[0m\u001b[1;33m\u001b[0m\u001b[1;33m\u001b[0m\u001b[0m\n",
       "\u001b[1;31mDocstring:\u001b[0m\n",
       "Return a random sample of items from an axis of object.\n",
       "\n",
       "You can use `random_state` for reproducibility.\n",
       "\n",
       "Parameters\n",
       "----------\n",
       "n : int, optional\n",
       "    Number of items from axis to return. Cannot be used with `frac`.\n",
       "    Default = 1 if `frac` = None.\n",
       "frac : float, optional\n",
       "    Fraction of axis items to return. Cannot be used with `n`.\n",
       "replace : bool, default False\n",
       "    Allow or disallow sampling of the same row more than once.\n",
       "weights : str or ndarray-like, optional\n",
       "    Default 'None' results in equal probability weighting.\n",
       "    If passed a Series, will align with target object on index. Index\n",
       "    values in weights not found in sampled object will be ignored and\n",
       "    index values in sampled object not in weights will be assigned\n",
       "    weights of zero.\n",
       "    If called on a DataFrame, will accept the name of a column\n",
       "    when axis = 0.\n",
       "    Unless weights are a Series, weights must be same length as axis\n",
       "    being sampled.\n",
       "    If weights do not sum to 1, they will be normalized to sum to 1.\n",
       "    Missing values in the weights column will be treated as zero.\n",
       "    Infinite values not allowed.\n",
       "random_state : int, array-like, BitGenerator, np.random.RandomState, optional\n",
       "    If int, array-like, or BitGenerator (NumPy>=1.17), seed for\n",
       "    random number generator\n",
       "    If np.random.RandomState, use as numpy RandomState object.\n",
       "\n",
       "    .. versionchanged:: 1.1.0\n",
       "\n",
       "        array-like and BitGenerator (for NumPy>=1.17) object now passed to\n",
       "        np.random.RandomState() as seed\n",
       "\n",
       "axis : {0 or ‘index’, 1 or ‘columns’, None}, default None\n",
       "    Axis to sample. Accepts axis number or name. Default is stat axis\n",
       "    for given data type (0 for Series and DataFrames).\n",
       "\n",
       "Returns\n",
       "-------\n",
       "Series or DataFrame\n",
       "    A new object of same type as caller containing `n` items randomly\n",
       "    sampled from the caller object.\n",
       "\n",
       "See Also\n",
       "--------\n",
       "DataFrameGroupBy.sample: Generates random samples from each group of a\n",
       "    DataFrame object.\n",
       "SeriesGroupBy.sample: Generates random samples from each group of a\n",
       "    Series object.\n",
       "numpy.random.choice: Generates a random sample from a given 1-D numpy\n",
       "    array.\n",
       "\n",
       "Notes\n",
       "-----\n",
       "If `frac` > 1, `replacement` should be set to `True`.\n",
       "\n",
       "Examples\n",
       "--------\n",
       ">>> df = pd.DataFrame({'num_legs': [2, 4, 8, 0],\n",
       "...                    'num_wings': [2, 0, 0, 0],\n",
       "...                    'num_specimen_seen': [10, 2, 1, 8]},\n",
       "...                   index=['falcon', 'dog', 'spider', 'fish'])\n",
       ">>> df\n",
       "        num_legs  num_wings  num_specimen_seen\n",
       "falcon         2          2                 10\n",
       "dog            4          0                  2\n",
       "spider         8          0                  1\n",
       "fish           0          0                  8\n",
       "\n",
       "Extract 3 random elements from the ``Series`` ``df['num_legs']``:\n",
       "Note that we use `random_state` to ensure the reproducibility of\n",
       "the examples.\n",
       "\n",
       ">>> df['num_legs'].sample(n=3, random_state=1)\n",
       "fish      0\n",
       "spider    8\n",
       "falcon    2\n",
       "Name: num_legs, dtype: int64\n",
       "\n",
       "A random 50% sample of the ``DataFrame`` with replacement:\n",
       "\n",
       ">>> df.sample(frac=0.5, replace=True, random_state=1)\n",
       "      num_legs  num_wings  num_specimen_seen\n",
       "dog          4          0                  2\n",
       "fish         0          0                  8\n",
       "\n",
       "An upsample sample of the ``DataFrame`` with replacement:\n",
       "Note that `replace` parameter has to be `True` for `frac` parameter > 1.\n",
       "\n",
       ">>> df.sample(frac=2, replace=True, random_state=1)\n",
       "        num_legs  num_wings  num_specimen_seen\n",
       "dog            4          0                  2\n",
       "fish           0          0                  8\n",
       "falcon         2          2                 10\n",
       "falcon         2          2                 10\n",
       "fish           0          0                  8\n",
       "dog            4          0                  2\n",
       "fish           0          0                  8\n",
       "dog            4          0                  2\n",
       "\n",
       "Using a DataFrame column as weights. Rows with larger value in the\n",
       "`num_specimen_seen` column are more likely to be sampled.\n",
       "\n",
       ">>> df.sample(n=2, weights='num_specimen_seen', random_state=1)\n",
       "        num_legs  num_wings  num_specimen_seen\n",
       "falcon         2          2                 10\n",
       "fish           0          0                  8\n",
       "\u001b[1;31mFile:\u001b[0m      c:\\users\\lynse\\anaconda3\\lib\\site-packages\\pandas\\core\\generic.py\n",
       "\u001b[1;31mType:\u001b[0m      method\n"
      ]
     },
     "metadata": {},
     "output_type": "display_data"
    }
   ],
   "source": [
    "# What if you want to weight samples differently?\n",
    "# What if you want a proportion of the data, not a rigid integer?\n",
    "# What if you want reproducible results?\n",
    "\n",
    "# If you ever want (or need) to find more details about how a function \n",
    "# or method works, you can type \"?...\" \n",
    "# (e.g. ?pd.DataFrame  ?df.head   ?pd.read_excel)\n",
    "\n",
    "?df.sample"
   ]
  },
  {
   "cell_type": "code",
   "execution_count": 32,
   "metadata": {},
   "outputs": [
    {
     "data": {
      "text/html": [
       "<div>\n",
       "<style scoped>\n",
       "    .dataframe tbody tr th:only-of-type {\n",
       "        vertical-align: middle;\n",
       "    }\n",
       "\n",
       "    .dataframe tbody tr th {\n",
       "        vertical-align: top;\n",
       "    }\n",
       "\n",
       "    .dataframe thead th {\n",
       "        text-align: right;\n",
       "    }\n",
       "</style>\n",
       "<table border=\"1\" class=\"dataframe\">\n",
       "  <thead>\n",
       "    <tr style=\"text-align: right;\">\n",
       "      <th></th>\n",
       "      <th>yrs_since_phd</th>\n",
       "      <th>yrs_service</th>\n",
       "      <th>salary</th>\n",
       "    </tr>\n",
       "  </thead>\n",
       "  <tbody>\n",
       "    <tr>\n",
       "      <th>count</th>\n",
       "      <td>397.000000</td>\n",
       "      <td>397.000000</td>\n",
       "      <td>397.000000</td>\n",
       "    </tr>\n",
       "    <tr>\n",
       "      <th>mean</th>\n",
       "      <td>22.314861</td>\n",
       "      <td>17.614610</td>\n",
       "      <td>113706.458438</td>\n",
       "    </tr>\n",
       "    <tr>\n",
       "      <th>std</th>\n",
       "      <td>12.887003</td>\n",
       "      <td>13.006024</td>\n",
       "      <td>30289.038695</td>\n",
       "    </tr>\n",
       "    <tr>\n",
       "      <th>min</th>\n",
       "      <td>1.000000</td>\n",
       "      <td>0.000000</td>\n",
       "      <td>57800.000000</td>\n",
       "    </tr>\n",
       "    <tr>\n",
       "      <th>25%</th>\n",
       "      <td>12.000000</td>\n",
       "      <td>7.000000</td>\n",
       "      <td>91000.000000</td>\n",
       "    </tr>\n",
       "    <tr>\n",
       "      <th>50%</th>\n",
       "      <td>21.000000</td>\n",
       "      <td>16.000000</td>\n",
       "      <td>107300.000000</td>\n",
       "    </tr>\n",
       "    <tr>\n",
       "      <th>75%</th>\n",
       "      <td>32.000000</td>\n",
       "      <td>27.000000</td>\n",
       "      <td>134185.000000</td>\n",
       "    </tr>\n",
       "    <tr>\n",
       "      <th>max</th>\n",
       "      <td>56.000000</td>\n",
       "      <td>60.000000</td>\n",
       "      <td>231545.000000</td>\n",
       "    </tr>\n",
       "  </tbody>\n",
       "</table>\n",
       "</div>"
      ],
      "text/plain": [
       "       yrs_since_phd  yrs_service         salary\n",
       "count     397.000000   397.000000     397.000000\n",
       "mean       22.314861    17.614610  113706.458438\n",
       "std        12.887003    13.006024   30289.038695\n",
       "min         1.000000     0.000000   57800.000000\n",
       "25%        12.000000     7.000000   91000.000000\n",
       "50%        21.000000    16.000000  107300.000000\n",
       "75%        32.000000    27.000000  134185.000000\n",
       "max        56.000000    60.000000  231545.000000"
      ]
     },
     "execution_count": 32,
     "metadata": {},
     "output_type": "execute_result"
    }
   ],
   "source": [
    "# The 'describe' method gives high-level descriptive statistics.\n",
    "# By default, it only inspects numeric variables.\n",
    "\n",
    "df.describe()"
   ]
  },
  {
   "cell_type": "code",
   "execution_count": 33,
   "metadata": {},
   "outputs": [],
   "source": [
    "# You can always dive deeper into a function or method to see what \n",
    "# options are available to you.\n",
    "\n",
    "# ?df.describe"
   ]
  },
  {
   "cell_type": "code",
   "execution_count": 34,
   "metadata": {},
   "outputs": [
    {
     "data": {
      "text/html": [
       "<div>\n",
       "<style scoped>\n",
       "    .dataframe tbody tr th:only-of-type {\n",
       "        vertical-align: middle;\n",
       "    }\n",
       "\n",
       "    .dataframe tbody tr th {\n",
       "        vertical-align: top;\n",
       "    }\n",
       "\n",
       "    .dataframe thead th {\n",
       "        text-align: right;\n",
       "    }\n",
       "</style>\n",
       "<table border=\"1\" class=\"dataframe\">\n",
       "  <thead>\n",
       "    <tr style=\"text-align: right;\">\n",
       "      <th></th>\n",
       "      <th>rank</th>\n",
       "      <th>discipline</th>\n",
       "      <th>yrs_since_phd</th>\n",
       "      <th>yrs_service</th>\n",
       "      <th>sex</th>\n",
       "      <th>salary</th>\n",
       "    </tr>\n",
       "  </thead>\n",
       "  <tbody>\n",
       "    <tr>\n",
       "      <th>count</th>\n",
       "      <td>397</td>\n",
       "      <td>397</td>\n",
       "      <td>397.000000</td>\n",
       "      <td>397.000000</td>\n",
       "      <td>397</td>\n",
       "      <td>397.000000</td>\n",
       "    </tr>\n",
       "    <tr>\n",
       "      <th>unique</th>\n",
       "      <td>3</td>\n",
       "      <td>2</td>\n",
       "      <td>NaN</td>\n",
       "      <td>NaN</td>\n",
       "      <td>2</td>\n",
       "      <td>NaN</td>\n",
       "    </tr>\n",
       "    <tr>\n",
       "      <th>top</th>\n",
       "      <td>Prof</td>\n",
       "      <td>B</td>\n",
       "      <td>NaN</td>\n",
       "      <td>NaN</td>\n",
       "      <td>Male</td>\n",
       "      <td>NaN</td>\n",
       "    </tr>\n",
       "    <tr>\n",
       "      <th>freq</th>\n",
       "      <td>266</td>\n",
       "      <td>216</td>\n",
       "      <td>NaN</td>\n",
       "      <td>NaN</td>\n",
       "      <td>358</td>\n",
       "      <td>NaN</td>\n",
       "    </tr>\n",
       "    <tr>\n",
       "      <th>mean</th>\n",
       "      <td>NaN</td>\n",
       "      <td>NaN</td>\n",
       "      <td>22.314861</td>\n",
       "      <td>17.614610</td>\n",
       "      <td>NaN</td>\n",
       "      <td>113706.458438</td>\n",
       "    </tr>\n",
       "    <tr>\n",
       "      <th>std</th>\n",
       "      <td>NaN</td>\n",
       "      <td>NaN</td>\n",
       "      <td>12.887003</td>\n",
       "      <td>13.006024</td>\n",
       "      <td>NaN</td>\n",
       "      <td>30289.038695</td>\n",
       "    </tr>\n",
       "    <tr>\n",
       "      <th>min</th>\n",
       "      <td>NaN</td>\n",
       "      <td>NaN</td>\n",
       "      <td>1.000000</td>\n",
       "      <td>0.000000</td>\n",
       "      <td>NaN</td>\n",
       "      <td>57800.000000</td>\n",
       "    </tr>\n",
       "    <tr>\n",
       "      <th>25%</th>\n",
       "      <td>NaN</td>\n",
       "      <td>NaN</td>\n",
       "      <td>12.000000</td>\n",
       "      <td>7.000000</td>\n",
       "      <td>NaN</td>\n",
       "      <td>91000.000000</td>\n",
       "    </tr>\n",
       "    <tr>\n",
       "      <th>50%</th>\n",
       "      <td>NaN</td>\n",
       "      <td>NaN</td>\n",
       "      <td>21.000000</td>\n",
       "      <td>16.000000</td>\n",
       "      <td>NaN</td>\n",
       "      <td>107300.000000</td>\n",
       "    </tr>\n",
       "    <tr>\n",
       "      <th>75%</th>\n",
       "      <td>NaN</td>\n",
       "      <td>NaN</td>\n",
       "      <td>32.000000</td>\n",
       "      <td>27.000000</td>\n",
       "      <td>NaN</td>\n",
       "      <td>134185.000000</td>\n",
       "    </tr>\n",
       "    <tr>\n",
       "      <th>max</th>\n",
       "      <td>NaN</td>\n",
       "      <td>NaN</td>\n",
       "      <td>56.000000</td>\n",
       "      <td>60.000000</td>\n",
       "      <td>NaN</td>\n",
       "      <td>231545.000000</td>\n",
       "    </tr>\n",
       "  </tbody>\n",
       "</table>\n",
       "</div>"
      ],
      "text/plain": [
       "        rank discipline  yrs_since_phd  yrs_service   sex         salary\n",
       "count    397        397     397.000000   397.000000   397     397.000000\n",
       "unique     3          2            NaN          NaN     2            NaN\n",
       "top     Prof          B            NaN          NaN  Male            NaN\n",
       "freq     266        216            NaN          NaN   358            NaN\n",
       "mean     NaN        NaN      22.314861    17.614610   NaN  113706.458438\n",
       "std      NaN        NaN      12.887003    13.006024   NaN   30289.038695\n",
       "min      NaN        NaN       1.000000     0.000000   NaN   57800.000000\n",
       "25%      NaN        NaN      12.000000     7.000000   NaN   91000.000000\n",
       "50%      NaN        NaN      21.000000    16.000000   NaN  107300.000000\n",
       "75%      NaN        NaN      32.000000    27.000000   NaN  134185.000000\n",
       "max      NaN        NaN      56.000000    60.000000   NaN  231545.000000"
      ]
     },
     "execution_count": 34,
     "metadata": {},
     "output_type": "execute_result"
    }
   ],
   "source": [
    "# Include an option for 'describe' to give some descriptive information\n",
    "# about categorical variables\n",
    "\n",
    "df.describe(include='all')"
   ]
  },
  {
   "cell_type": "code",
   "execution_count": 35,
   "metadata": {},
   "outputs": [
    {
     "data": {
      "text/html": [
       "<div>\n",
       "<style scoped>\n",
       "    .dataframe tbody tr th:only-of-type {\n",
       "        vertical-align: middle;\n",
       "    }\n",
       "\n",
       "    .dataframe tbody tr th {\n",
       "        vertical-align: top;\n",
       "    }\n",
       "\n",
       "    .dataframe thead th {\n",
       "        text-align: right;\n",
       "    }\n",
       "</style>\n",
       "<table border=\"1\" class=\"dataframe\">\n",
       "  <thead>\n",
       "    <tr style=\"text-align: right;\">\n",
       "      <th></th>\n",
       "      <th>rank</th>\n",
       "      <th>discipline</th>\n",
       "      <th>yrs_since_phd</th>\n",
       "      <th>yrs_service</th>\n",
       "      <th>sex</th>\n",
       "      <th>salary</th>\n",
       "    </tr>\n",
       "  </thead>\n",
       "  <tbody>\n",
       "    <tr>\n",
       "      <th>count</th>\n",
       "      <td>397</td>\n",
       "      <td>397</td>\n",
       "      <td>397.000000</td>\n",
       "      <td>397.000000</td>\n",
       "      <td>397</td>\n",
       "      <td>397.000000</td>\n",
       "    </tr>\n",
       "    <tr>\n",
       "      <th>unique</th>\n",
       "      <td>3</td>\n",
       "      <td>2</td>\n",
       "      <td>NaN</td>\n",
       "      <td>NaN</td>\n",
       "      <td>2</td>\n",
       "      <td>NaN</td>\n",
       "    </tr>\n",
       "    <tr>\n",
       "      <th>top</th>\n",
       "      <td>Prof</td>\n",
       "      <td>B</td>\n",
       "      <td>NaN</td>\n",
       "      <td>NaN</td>\n",
       "      <td>Male</td>\n",
       "      <td>NaN</td>\n",
       "    </tr>\n",
       "    <tr>\n",
       "      <th>freq</th>\n",
       "      <td>266</td>\n",
       "      <td>216</td>\n",
       "      <td>NaN</td>\n",
       "      <td>NaN</td>\n",
       "      <td>358</td>\n",
       "      <td>NaN</td>\n",
       "    </tr>\n",
       "    <tr>\n",
       "      <th>mean</th>\n",
       "      <td>NaN</td>\n",
       "      <td>NaN</td>\n",
       "      <td>22.314861</td>\n",
       "      <td>17.614610</td>\n",
       "      <td>NaN</td>\n",
       "      <td>113706.458438</td>\n",
       "    </tr>\n",
       "    <tr>\n",
       "      <th>std</th>\n",
       "      <td>NaN</td>\n",
       "      <td>NaN</td>\n",
       "      <td>12.887003</td>\n",
       "      <td>13.006024</td>\n",
       "      <td>NaN</td>\n",
       "      <td>30289.038695</td>\n",
       "    </tr>\n",
       "    <tr>\n",
       "      <th>min</th>\n",
       "      <td>NaN</td>\n",
       "      <td>NaN</td>\n",
       "      <td>1.000000</td>\n",
       "      <td>0.000000</td>\n",
       "      <td>NaN</td>\n",
       "      <td>57800.000000</td>\n",
       "    </tr>\n",
       "    <tr>\n",
       "      <th>2.5%</th>\n",
       "      <td>NaN</td>\n",
       "      <td>NaN</td>\n",
       "      <td>3.000000</td>\n",
       "      <td>0.000000</td>\n",
       "      <td>NaN</td>\n",
       "      <td>70761.200000</td>\n",
       "    </tr>\n",
       "    <tr>\n",
       "      <th>25%</th>\n",
       "      <td>NaN</td>\n",
       "      <td>NaN</td>\n",
       "      <td>12.000000</td>\n",
       "      <td>7.000000</td>\n",
       "      <td>NaN</td>\n",
       "      <td>91000.000000</td>\n",
       "    </tr>\n",
       "    <tr>\n",
       "      <th>50%</th>\n",
       "      <td>NaN</td>\n",
       "      <td>NaN</td>\n",
       "      <td>21.000000</td>\n",
       "      <td>16.000000</td>\n",
       "      <td>NaN</td>\n",
       "      <td>107300.000000</td>\n",
       "    </tr>\n",
       "    <tr>\n",
       "      <th>75%</th>\n",
       "      <td>NaN</td>\n",
       "      <td>NaN</td>\n",
       "      <td>32.000000</td>\n",
       "      <td>27.000000</td>\n",
       "      <td>NaN</td>\n",
       "      <td>134185.000000</td>\n",
       "    </tr>\n",
       "    <tr>\n",
       "      <th>97.5%</th>\n",
       "      <td>NaN</td>\n",
       "      <td>NaN</td>\n",
       "      <td>47.100000</td>\n",
       "      <td>45.000000</td>\n",
       "      <td>NaN</td>\n",
       "      <td>181511.300000</td>\n",
       "    </tr>\n",
       "    <tr>\n",
       "      <th>max</th>\n",
       "      <td>NaN</td>\n",
       "      <td>NaN</td>\n",
       "      <td>56.000000</td>\n",
       "      <td>60.000000</td>\n",
       "      <td>NaN</td>\n",
       "      <td>231545.000000</td>\n",
       "    </tr>\n",
       "  </tbody>\n",
       "</table>\n",
       "</div>"
      ],
      "text/plain": [
       "        rank discipline  yrs_since_phd  yrs_service   sex         salary\n",
       "count    397        397     397.000000   397.000000   397     397.000000\n",
       "unique     3          2            NaN          NaN     2            NaN\n",
       "top     Prof          B            NaN          NaN  Male            NaN\n",
       "freq     266        216            NaN          NaN   358            NaN\n",
       "mean     NaN        NaN      22.314861    17.614610   NaN  113706.458438\n",
       "std      NaN        NaN      12.887003    13.006024   NaN   30289.038695\n",
       "min      NaN        NaN       1.000000     0.000000   NaN   57800.000000\n",
       "2.5%     NaN        NaN       3.000000     0.000000   NaN   70761.200000\n",
       "25%      NaN        NaN      12.000000     7.000000   NaN   91000.000000\n",
       "50%      NaN        NaN      21.000000    16.000000   NaN  107300.000000\n",
       "75%      NaN        NaN      32.000000    27.000000   NaN  134185.000000\n",
       "97.5%    NaN        NaN      47.100000    45.000000   NaN  181511.300000\n",
       "max      NaN        NaN      56.000000    60.000000   NaN  231545.000000"
      ]
     },
     "execution_count": 35,
     "metadata": {},
     "output_type": "execute_result"
    }
   ],
   "source": [
    "# Include categorical data AND specify the exact percentile cutoffs for\n",
    "# numeric data\n",
    "\n",
    "df.describe(include='all', percentiles=[0.025,0.25,0.5,0.75,0.975] )"
   ]
  },
  {
   "cell_type": "code",
   "execution_count": 38,
   "metadata": {},
   "outputs": [
    {
     "data": {
      "text/html": [
       "<div>\n",
       "<style scoped>\n",
       "    .dataframe tbody tr th:only-of-type {\n",
       "        vertical-align: middle;\n",
       "    }\n",
       "\n",
       "    .dataframe tbody tr th {\n",
       "        vertical-align: top;\n",
       "    }\n",
       "\n",
       "    .dataframe thead th {\n",
       "        text-align: right;\n",
       "    }\n",
       "</style>\n",
       "<table border=\"1\" class=\"dataframe\">\n",
       "  <thead>\n",
       "    <tr style=\"text-align: right;\">\n",
       "      <th></th>\n",
       "      <th>rank</th>\n",
       "      <th>discipline</th>\n",
       "      <th>yrs_since_phd</th>\n",
       "      <th>yrs_service</th>\n",
       "      <th>sex</th>\n",
       "      <th>salary</th>\n",
       "    </tr>\n",
       "  </thead>\n",
       "  <tbody>\n",
       "    <tr>\n",
       "      <th>count</th>\n",
       "      <td>397</td>\n",
       "      <td>397</td>\n",
       "      <td>397.000000</td>\n",
       "      <td>397.000000</td>\n",
       "      <td>397</td>\n",
       "      <td>397.000000</td>\n",
       "    </tr>\n",
       "    <tr>\n",
       "      <th>unique</th>\n",
       "      <td>3</td>\n",
       "      <td>2</td>\n",
       "      <td>NaN</td>\n",
       "      <td>NaN</td>\n",
       "      <td>2</td>\n",
       "      <td>NaN</td>\n",
       "    </tr>\n",
       "    <tr>\n",
       "      <th>top</th>\n",
       "      <td>Prof</td>\n",
       "      <td>B</td>\n",
       "      <td>NaN</td>\n",
       "      <td>NaN</td>\n",
       "      <td>Male</td>\n",
       "      <td>NaN</td>\n",
       "    </tr>\n",
       "    <tr>\n",
       "      <th>freq</th>\n",
       "      <td>266</td>\n",
       "      <td>216</td>\n",
       "      <td>NaN</td>\n",
       "      <td>NaN</td>\n",
       "      <td>358</td>\n",
       "      <td>NaN</td>\n",
       "    </tr>\n",
       "    <tr>\n",
       "      <th>mean</th>\n",
       "      <td>NaN</td>\n",
       "      <td>NaN</td>\n",
       "      <td>22.314861</td>\n",
       "      <td>17.614610</td>\n",
       "      <td>NaN</td>\n",
       "      <td>113706.458438</td>\n",
       "    </tr>\n",
       "    <tr>\n",
       "      <th>std</th>\n",
       "      <td>NaN</td>\n",
       "      <td>NaN</td>\n",
       "      <td>12.887003</td>\n",
       "      <td>13.006024</td>\n",
       "      <td>NaN</td>\n",
       "      <td>30289.038695</td>\n",
       "    </tr>\n",
       "    <tr>\n",
       "      <th>min</th>\n",
       "      <td>NaN</td>\n",
       "      <td>NaN</td>\n",
       "      <td>1.000000</td>\n",
       "      <td>0.000000</td>\n",
       "      <td>NaN</td>\n",
       "      <td>57800.000000</td>\n",
       "    </tr>\n",
       "    <tr>\n",
       "      <th>7.5%</th>\n",
       "      <td>NaN</td>\n",
       "      <td>NaN</td>\n",
       "      <td>4.000000</td>\n",
       "      <td>2.000000</td>\n",
       "      <td>NaN</td>\n",
       "      <td>74788.600000</td>\n",
       "    </tr>\n",
       "    <tr>\n",
       "      <th>22%</th>\n",
       "      <td>NaN</td>\n",
       "      <td>NaN</td>\n",
       "      <td>11.000000</td>\n",
       "      <td>6.000000</td>\n",
       "      <td>NaN</td>\n",
       "      <td>88798.600000</td>\n",
       "    </tr>\n",
       "    <tr>\n",
       "      <th>50%</th>\n",
       "      <td>NaN</td>\n",
       "      <td>NaN</td>\n",
       "      <td>21.000000</td>\n",
       "      <td>16.000000</td>\n",
       "      <td>NaN</td>\n",
       "      <td>107300.000000</td>\n",
       "    </tr>\n",
       "    <tr>\n",
       "      <th>55%</th>\n",
       "      <td>NaN</td>\n",
       "      <td>NaN</td>\n",
       "      <td>23.000000</td>\n",
       "      <td>18.000000</td>\n",
       "      <td>NaN</td>\n",
       "      <td>111350.000000</td>\n",
       "    </tr>\n",
       "    <tr>\n",
       "      <th>78%</th>\n",
       "      <td>NaN</td>\n",
       "      <td>NaN</td>\n",
       "      <td>33.000000</td>\n",
       "      <td>28.000000</td>\n",
       "      <td>NaN</td>\n",
       "      <td>137146.960000</td>\n",
       "    </tr>\n",
       "    <tr>\n",
       "      <th>97.9%</th>\n",
       "      <td>NaN</td>\n",
       "      <td>NaN</td>\n",
       "      <td>48.684000</td>\n",
       "      <td>45.684000</td>\n",
       "      <td>NaN</td>\n",
       "      <td>185320.532000</td>\n",
       "    </tr>\n",
       "    <tr>\n",
       "      <th>max</th>\n",
       "      <td>NaN</td>\n",
       "      <td>NaN</td>\n",
       "      <td>56.000000</td>\n",
       "      <td>60.000000</td>\n",
       "      <td>NaN</td>\n",
       "      <td>231545.000000</td>\n",
       "    </tr>\n",
       "  </tbody>\n",
       "</table>\n",
       "</div>"
      ],
      "text/plain": [
       "        rank discipline  yrs_since_phd  yrs_service   sex         salary\n",
       "count    397        397     397.000000   397.000000   397     397.000000\n",
       "unique     3          2            NaN          NaN     2            NaN\n",
       "top     Prof          B            NaN          NaN  Male            NaN\n",
       "freq     266        216            NaN          NaN   358            NaN\n",
       "mean     NaN        NaN      22.314861    17.614610   NaN  113706.458438\n",
       "std      NaN        NaN      12.887003    13.006024   NaN   30289.038695\n",
       "min      NaN        NaN       1.000000     0.000000   NaN   57800.000000\n",
       "7.5%     NaN        NaN       4.000000     2.000000   NaN   74788.600000\n",
       "22%      NaN        NaN      11.000000     6.000000   NaN   88798.600000\n",
       "50%      NaN        NaN      21.000000    16.000000   NaN  107300.000000\n",
       "55%      NaN        NaN      23.000000    18.000000   NaN  111350.000000\n",
       "78%      NaN        NaN      33.000000    28.000000   NaN  137146.960000\n",
       "97.9%    NaN        NaN      48.684000    45.684000   NaN  185320.532000\n",
       "max      NaN        NaN      56.000000    60.000000   NaN  231545.000000"
      ]
     },
     "execution_count": 38,
     "metadata": {},
     "output_type": "execute_result"
    }
   ],
   "source": [
    "# PRACTICE - Change the percentile cutoffs to any values you want in \n",
    "# the range [0.0,1.0]\n",
    "\n",
    "df.describe(include='all', percentiles=[0.075,0.22,0.55,0.78,0.979] )"
   ]
  },
  {
   "cell_type": "markdown",
   "metadata": {},
   "source": [
    "# Part 3 - Brief Primer on Modules, Functions, and Parameters/Options\n",
    "Understanding some of the basics of how to import modules and use functions is critical to making Python work for you!"
   ]
  },
  {
   "cell_type": "markdown",
   "metadata": {},
   "source": [
    "### **Importing modules and functions**\n",
    "#### Let's say a module exists somehwere on the internet that we want to use for our Python project:\n",
    "> ##### \"exampleModule\"\n",
    "\n",
    "#### That module likely contains many functions and other tools:\n",
    "> ##### \"function1\" ,\"function2\" ,\"function3\" ,\"function4\"\n",
    "\n",
    "#### There are two main ways we can bring these tools into our Python script and use them...\n",
    "> ##### *import exampleModule as exmo*\n",
    "#### This imports everything from the exampleModule.  In order to use the functions and tools, we use the abbreviation:\n",
    "> ##### *import exampleModule as exmo*\n",
    "> ##### *exmo.function1()*\n",
    "> ##### *exmo.function2()*\n",
    "> ##### *exmo.function3()*\n",
    "\n",
    "#### Alternatively, we can import individual functions from modules\n",
    "> ##### *from exampleModule import function1, function3*\n",
    "#### Now, the individual functions are explicitly imported and defined, so we can just use the function names directly:\n",
    "> ##### *from exampleModule import function1, function3*\n",
    "> ##### *function1()*\n",
    "> ##### *function3()*"
   ]
  },
  {
   "cell_type": "markdown",
   "metadata": {},
   "source": [
    "### **Importing modules and functions - in practice**\n",
    "Note: the following code will not actually produce anything substantive on screen."
   ]
  },
  {
   "cell_type": "code",
   "execution_count": 40,
   "metadata": {},
   "outputs": [
    {
     "data": {
      "text/html": [
       "<div>\n",
       "<style scoped>\n",
       "    .dataframe tbody tr th:only-of-type {\n",
       "        vertical-align: middle;\n",
       "    }\n",
       "\n",
       "    .dataframe tbody tr th {\n",
       "        vertical-align: top;\n",
       "    }\n",
       "\n",
       "    .dataframe thead th {\n",
       "        text-align: right;\n",
       "    }\n",
       "</style>\n",
       "<table border=\"1\" class=\"dataframe\">\n",
       "  <thead>\n",
       "    <tr style=\"text-align: right;\">\n",
       "      <th></th>\n",
       "    </tr>\n",
       "  </thead>\n",
       "  <tbody>\n",
       "  </tbody>\n",
       "</table>\n",
       "</div>"
      ],
      "text/plain": [
       "Empty DataFrame\n",
       "Columns: []\n",
       "Index: []"
      ]
     },
     "execution_count": 40,
     "metadata": {},
     "output_type": "execute_result"
    }
   ],
   "source": [
    "# # Example\n",
    "# import moduleName as abbreviation\n",
    "# abbreviation.functionName()\n",
    "\n",
    "# Option 1 (used in this workshop)\n",
    "import pandas as pd\n",
    "pd.DataFrame()\n",
    "\n",
    "# Option 2\n",
    "from pandas import DataFrame\n",
    "DataFrame()"
   ]
  },
  {
   "cell_type": "markdown",
   "metadata": {},
   "source": [
    "### **Using parameters/options in functions and methods**\n",
    "#### While you can create your own functions (and \"methods\") from scratch, this section focuses on using them in the context of modules that we have imported.\n",
    "#### At its core, once we've imported a module and want to start using its functions, it's important to understand a few key elements.\n",
    "##### \"Calling\" or \"call\" is the verb sometimes used to describe when you use a function. In the code below, we import the exampleModule, give it an abbreviation, and then \"call\" or use function1:\n",
    "> ##### import exampleModule as exmo\n",
    "> ##### exmo.function1()\n",
    "##### By calling function1, we are in essence telling Python to \"do whatever it is that function1 does!\"  That's vague, but the truth is, functions can do a LOT of different thing.  To understand what any individual function does, you will need to read the reference/documentation materials for the module you are using.\n",
    "##### Functions can sometimes be used as standalone operations:\n",
    "> ##### exmo.function1()\n",
    "##### But often, functions may have optional or mandatory input variables that determine if and how the function works:\n",
    "> ##### exmo.function1( parameter1 = value1, parameter2 = value2, etc...)\n",
    "> ##### exmo.function1( favorite_movie = \"Forrest Gump\", favorite_number = 3.14 )\n",
    "##### Every individual function from every individual module is different in terms of what is required, what is optional, and what the function does.  So, it is 100% worth your time to read through and understand the modules and particular functions you intend to use in your research.  You can obviously find this information on websites, but the info is also usually availble directly in Python by putting a \"?\" before an individual function (without the parentheses):\n",
    "> ##### import exampleModule as exmo\n",
    "> ##### ?exmo.function1\n",
    "> ##### \n",
    "> ##### from exampleModule import function1\n",
    "> ##### ?function1"
   ]
  },
  {
   "cell_type": "markdown",
   "metadata": {},
   "source": [
    "### **Using parameters/options in functions and methods - in practice**"
   ]
  },
  {
   "cell_type": "code",
   "execution_count": 42,
   "metadata": {
    "scrolled": true
   },
   "outputs": [
    {
     "data": {
      "text/plain": [
       "\u001b[1;31mInit signature:\u001b[0m\n",
       "\u001b[0mDataFrame\u001b[0m\u001b[1;33m(\u001b[0m\u001b[1;33m\n",
       "\u001b[0m    \u001b[0mdata\u001b[0m\u001b[1;33m=\u001b[0m\u001b[1;32mNone\u001b[0m\u001b[1;33m,\u001b[0m\u001b[1;33m\n",
       "\u001b[0m    \u001b[0mindex\u001b[0m\u001b[1;33m:\u001b[0m \u001b[0mUnion\u001b[0m\u001b[1;33m[\u001b[0m\u001b[0mCollection\u001b[0m\u001b[1;33m,\u001b[0m \u001b[0mNoneType\u001b[0m\u001b[1;33m]\u001b[0m \u001b[1;33m=\u001b[0m \u001b[1;32mNone\u001b[0m\u001b[1;33m,\u001b[0m\u001b[1;33m\n",
       "\u001b[0m    \u001b[0mcolumns\u001b[0m\u001b[1;33m:\u001b[0m \u001b[0mUnion\u001b[0m\u001b[1;33m[\u001b[0m\u001b[0mCollection\u001b[0m\u001b[1;33m,\u001b[0m \u001b[0mNoneType\u001b[0m\u001b[1;33m]\u001b[0m \u001b[1;33m=\u001b[0m \u001b[1;32mNone\u001b[0m\u001b[1;33m,\u001b[0m\u001b[1;33m\n",
       "\u001b[0m    \u001b[0mdtype\u001b[0m\u001b[1;33m:\u001b[0m \u001b[0mUnion\u001b[0m\u001b[1;33m[\u001b[0m\u001b[0mForwardRef\u001b[0m\u001b[1;33m(\u001b[0m\u001b[1;34m'ExtensionDtype'\u001b[0m\u001b[1;33m)\u001b[0m\u001b[1;33m,\u001b[0m \u001b[0mstr\u001b[0m\u001b[1;33m,\u001b[0m \u001b[0mnumpy\u001b[0m\u001b[1;33m.\u001b[0m\u001b[0mdtype\u001b[0m\u001b[1;33m,\u001b[0m \u001b[0mType\u001b[0m\u001b[1;33m[\u001b[0m\u001b[0mUnion\u001b[0m\u001b[1;33m[\u001b[0m\u001b[0mstr\u001b[0m\u001b[1;33m,\u001b[0m \u001b[0mfloat\u001b[0m\u001b[1;33m,\u001b[0m \u001b[0mint\u001b[0m\u001b[1;33m,\u001b[0m \u001b[0mcomplex\u001b[0m\u001b[1;33m,\u001b[0m \u001b[0mbool\u001b[0m\u001b[1;33m]\u001b[0m\u001b[1;33m]\u001b[0m\u001b[1;33m,\u001b[0m \u001b[0mNoneType\u001b[0m\u001b[1;33m]\u001b[0m \u001b[1;33m=\u001b[0m \u001b[1;32mNone\u001b[0m\u001b[1;33m,\u001b[0m\u001b[1;33m\n",
       "\u001b[0m    \u001b[0mcopy\u001b[0m\u001b[1;33m:\u001b[0m \u001b[0mbool\u001b[0m \u001b[1;33m=\u001b[0m \u001b[1;32mFalse\u001b[0m\u001b[1;33m,\u001b[0m\u001b[1;33m\n",
       "\u001b[0m\u001b[1;33m)\u001b[0m\u001b[1;33m\u001b[0m\u001b[1;33m\u001b[0m\u001b[0m\n",
       "\u001b[1;31mDocstring:\u001b[0m     \n",
       "Two-dimensional, size-mutable, potentially heterogeneous tabular data.\n",
       "\n",
       "Data structure also contains labeled axes (rows and columns).\n",
       "Arithmetic operations align on both row and column labels. Can be\n",
       "thought of as a dict-like container for Series objects. The primary\n",
       "pandas data structure.\n",
       "\n",
       "Parameters\n",
       "----------\n",
       "data : ndarray (structured or homogeneous), Iterable, dict, or DataFrame\n",
       "    Dict can contain Series, arrays, constants, or list-like objects.\n",
       "\n",
       "    .. versionchanged:: 0.23.0\n",
       "       If data is a dict, column order follows insertion-order for\n",
       "       Python 3.6 and later.\n",
       "\n",
       "    .. versionchanged:: 0.25.0\n",
       "       If data is a list of dicts, column order follows insertion-order\n",
       "       for Python 3.6 and later.\n",
       "\n",
       "index : Index or array-like\n",
       "    Index to use for resulting frame. Will default to RangeIndex if\n",
       "    no indexing information part of input data and no index provided.\n",
       "columns : Index or array-like\n",
       "    Column labels to use for resulting frame. Will default to\n",
       "    RangeIndex (0, 1, 2, ..., n) if no column labels are provided.\n",
       "dtype : dtype, default None\n",
       "    Data type to force. Only a single dtype is allowed. If None, infer.\n",
       "copy : bool, default False\n",
       "    Copy data from inputs. Only affects DataFrame / 2d ndarray input.\n",
       "\n",
       "See Also\n",
       "--------\n",
       "DataFrame.from_records : Constructor from tuples, also record arrays.\n",
       "DataFrame.from_dict : From dicts of Series, arrays, or dicts.\n",
       "read_csv : Read a comma-separated values (csv) file into DataFrame.\n",
       "read_table : Read general delimited file into DataFrame.\n",
       "read_clipboard : Read text from clipboard into DataFrame.\n",
       "\n",
       "Examples\n",
       "--------\n",
       "Constructing DataFrame from a dictionary.\n",
       "\n",
       ">>> d = {'col1': [1, 2], 'col2': [3, 4]}\n",
       ">>> df = pd.DataFrame(data=d)\n",
       ">>> df\n",
       "   col1  col2\n",
       "0     1     3\n",
       "1     2     4\n",
       "\n",
       "Notice that the inferred dtype is int64.\n",
       "\n",
       ">>> df.dtypes\n",
       "col1    int64\n",
       "col2    int64\n",
       "dtype: object\n",
       "\n",
       "To enforce a single dtype:\n",
       "\n",
       ">>> df = pd.DataFrame(data=d, dtype=np.int8)\n",
       ">>> df.dtypes\n",
       "col1    int8\n",
       "col2    int8\n",
       "dtype: object\n",
       "\n",
       "Constructing DataFrame from numpy ndarray:\n",
       "\n",
       ">>> df2 = pd.DataFrame(np.array([[1, 2, 3], [4, 5, 6], [7, 8, 9]]),\n",
       "...                    columns=['a', 'b', 'c'])\n",
       ">>> df2\n",
       "   a  b  c\n",
       "0  1  2  3\n",
       "1  4  5  6\n",
       "2  7  8  9\n",
       "\u001b[1;31mFile:\u001b[0m           c:\\users\\lynse\\anaconda3\\lib\\site-packages\\pandas\\core\\frame.py\n",
       "\u001b[1;31mType:\u001b[0m           type\n",
       "\u001b[1;31mSubclasses:\u001b[0m     SubclassedDataFrame\n"
      ]
     },
     "metadata": {},
     "output_type": "display_data"
    }
   ],
   "source": [
    "# # Example\n",
    "# import moduleName as abbreviation\n",
    "# abbreviation.functionName()\n",
    "\n",
    "# Option 1 (used in this workshop)\n",
    "import pandas as pd\n",
    "?pd.DataFrame\n",
    "\n",
    "# Option 2\n",
    "from pandas import DataFrame\n",
    "?DataFrame"
   ]
  },
  {
   "cell_type": "markdown",
   "metadata": {},
   "source": [
    "### **Functions vs. Methods**\n",
    "#### Methods are very similar to functions in that a Method(...) may or may not need inputs in order to \"do something\".  However, the difference is that a \"function\" is called on its own:\n",
    "> ##### import exampleModule as exmo\n",
    "> ##### exmo.function1()\n",
    "#### Whereas, a \"method\" is called as an extension of an existing object:\n",
    "> ##### object = value1\n",
    "> ##### object.method()\n",
    "#### Like functions, the exact options and details of how a method works will change from method to method, object to object.  Different types of objects may have many different types of methods.  Just like with functions, it is important to read the documentation:\n",
    "> ##### object = data_value1\n",
    "> ##### object.method_1()\n",
    "> ##### object.method_1(option1 = value1, option2 = value2, ...)\n",
    "> ##### ?object.method"
   ]
  },
  {
   "cell_type": "markdown",
   "metadata": {},
   "source": [
    "### **Using methods - in practice**"
   ]
  },
  {
   "cell_type": "code",
   "execution_count": 43,
   "metadata": {},
   "outputs": [],
   "source": [
    "# # Example\n",
    "# object = data_value1\n",
    "# object.method()\n",
    "\n",
    "x = \"oranges\""
   ]
  },
  {
   "cell_type": "code",
   "execution_count": 44,
   "metadata": {},
   "outputs": [
    {
     "data": {
      "text/plain": [
       "'Oranges'"
      ]
     },
     "execution_count": 44,
     "metadata": {},
     "output_type": "execute_result"
    }
   ],
   "source": [
    "x.capitalize()"
   ]
  },
  {
   "cell_type": "code",
   "execution_count": 45,
   "metadata": {},
   "outputs": [
    {
     "data": {
      "text/plain": [
       "'ORANGES'"
      ]
     },
     "execution_count": 45,
     "metadata": {},
     "output_type": "execute_result"
    }
   ],
   "source": [
    "x.swapcase()"
   ]
  },
  {
   "cell_type": "markdown",
   "metadata": {},
   "source": [
    "### **Accessing contents of an object**\n",
    "#### The last major thing to note about Python notation for this workshop is the use of brackets [...] to access the contents of individual objects.  This is extremely important as researchers because we often work with lists, arrays, and tables of data.  In Python, this data is usually stored in an object (like a Pandas DataFrame) and using [...] allows us to access the information in particular ways.\n",
    "#### The exact way you use brackets [...] will depend on the exact nature of the individual object you are using.  But the general patter in as follows:\n",
    "> ##### *single item*\n",
    ">> ##### object[identifier]\n",
    ">> ##### object[15]\n",
    "> ##### *range of items*\n",
    ">> ##### object[identifier:identifier]\n",
    ">> ##### object[15:42]\n",
    "> ##### *item by name*\n",
    ">> ##### object[\"item_name\"]\n",
    ">> ##### object[\"oranges\"]"
   ]
  },
  {
   "cell_type": "code",
   "execution_count": 46,
   "metadata": {},
   "outputs": [
    {
     "data": {
      "text/plain": [
       "['cat', 'dog', 'bananas', 'oranges', 'coffee', 'tea']"
      ]
     },
     "execution_count": 46,
     "metadata": {},
     "output_type": "execute_result"
    }
   ],
   "source": [
    "# Hypothetically, let's say the object X is a list and contains a list of words\n",
    "X = [\"cat\", \"dog\", \"bananas\", \"oranges\", \"coffee\", \"tea\"]\n",
    "X"
   ]
  },
  {
   "cell_type": "code",
   "execution_count": null,
   "metadata": {},
   "outputs": [],
   "source": [
    "# If we only want to access or view a single item from the list X\n",
    "# then we can use square brackets []."
   ]
  },
  {
   "cell_type": "code",
   "execution_count": 47,
   "metadata": {},
   "outputs": [
    {
     "data": {
      "text/plain": [
       "'cat'"
      ]
     },
     "execution_count": 47,
     "metadata": {},
     "output_type": "execute_result"
    }
   ],
   "source": [
    "# Show the first item (note: counting starts at zero in Python)\n",
    "X[0]"
   ]
  },
  {
   "cell_type": "code",
   "execution_count": 48,
   "metadata": {},
   "outputs": [
    {
     "data": {
      "text/plain": [
       "'bananas'"
      ]
     },
     "execution_count": 48,
     "metadata": {},
     "output_type": "execute_result"
    }
   ],
   "source": [
    "# Show the third item\n",
    "X[2]"
   ]
  },
  {
   "cell_type": "code",
   "execution_count": 49,
   "metadata": {},
   "outputs": [
    {
     "data": {
      "text/plain": [
       "['bananas', 'oranges', 'coffee']"
      ]
     },
     "execution_count": 49,
     "metadata": {},
     "output_type": "execute_result"
    }
   ],
   "source": [
    "# Show a range of items\n",
    "X[2:5]"
   ]
  },
  {
   "cell_type": "markdown",
   "metadata": {},
   "source": [
    "# Part 4 - Variable Selection and Descriptive Statistics (continued)"
   ]
  },
  {
   "cell_type": "code",
   "execution_count": null,
   "metadata": {},
   "outputs": [],
   "source": [
    "# So far we've applied functions and methods to the entire dataset at once.  \n",
    "# However, sometimes that is impractical or undesired.  You can view subests\n",
    "# of the data in a variety of ways that will produce the same results \n",
    "\n",
    "# EXAMPLE SYNTAX for single column\n",
    "\n",
    "# dataframe['columnName1']     \n",
    "\n",
    "# The outer-brackets are used to signify when you want to slice, index, \n",
    "# or capture a subset of the dataframe.\n",
    "\n",
    "# dataframe.loc[:,'columnName1'] \n",
    "\n",
    "# The \".loc\" method is more precise and reliable than the previous approach.\n",
    "\n",
    "# When using the two methods above, the output/returned info is a single\n",
    "# column from the DataFrame - also known in Pandas as\n",
    "# a \"Series\" or, in our current syntax, \"pd.Series(...)\""
   ]
  },
  {
   "cell_type": "code",
   "execution_count": 50,
   "metadata": {},
   "outputs": [
    {
     "data": {
      "text/plain": [
       "0      18\n",
       "1      16\n",
       "2       3\n",
       "3      39\n",
       "4      41\n",
       "       ..\n",
       "392    30\n",
       "393    19\n",
       "394    25\n",
       "395    15\n",
       "396     4\n",
       "Name: yrs_service, Length: 397, dtype: int64"
      ]
     },
     "execution_count": 50,
     "metadata": {},
     "output_type": "execute_result"
    }
   ],
   "source": [
    "# First approach\n",
    "\n",
    "df['yrs_service']"
   ]
  },
  {
   "cell_type": "code",
   "execution_count": 51,
   "metadata": {},
   "outputs": [
    {
     "data": {
      "text/plain": [
       "0      18\n",
       "1      16\n",
       "2       3\n",
       "3      39\n",
       "4      41\n",
       "       ..\n",
       "392    30\n",
       "393    19\n",
       "394    25\n",
       "395    15\n",
       "396     4\n",
       "Name: yrs_service, Length: 397, dtype: int64"
      ]
     },
     "execution_count": 51,
     "metadata": {},
     "output_type": "execute_result"
    }
   ],
   "source": [
    "# Second approach\n",
    "\n",
    "df.loc[:,'yrs_service']"
   ]
  },
  {
   "cell_type": "code",
   "execution_count": 55,
   "metadata": {},
   "outputs": [
    {
     "data": {
      "text/plain": [
       "0          Prof\n",
       "1          Prof\n",
       "2      AsstProf\n",
       "3          Prof\n",
       "4          Prof\n",
       "         ...   \n",
       "392        Prof\n",
       "393        Prof\n",
       "394        Prof\n",
       "395        Prof\n",
       "396    AsstProf\n",
       "Name: rank, Length: 397, dtype: object"
      ]
     },
     "execution_count": 55,
     "metadata": {},
     "output_type": "execute_result"
    }
   ],
   "source": [
    "# PRACTICE - Show only data from the column \"rank\" using the first approach\n",
    "\n",
    "df[\"rank\"]"
   ]
  },
  {
   "cell_type": "code",
   "execution_count": 56,
   "metadata": {},
   "outputs": [
    {
     "data": {
      "text/plain": [
       "0          Prof\n",
       "1          Prof\n",
       "2      AsstProf\n",
       "3          Prof\n",
       "4          Prof\n",
       "         ...   \n",
       "392        Prof\n",
       "393        Prof\n",
       "394        Prof\n",
       "395        Prof\n",
       "396    AsstProf\n",
       "Name: rank, Length: 397, dtype: object"
      ]
     },
     "execution_count": 56,
     "metadata": {},
     "output_type": "execute_result"
    }
   ],
   "source": [
    "# PRACTICE - ...now use the second approach\n",
    "\n",
    "df.loc[:,\"rank\"]"
   ]
  },
  {
   "cell_type": "code",
   "execution_count": 57,
   "metadata": {},
   "outputs": [
    {
     "data": {
      "text/plain": [
       "count    397.000000\n",
       "mean      17.614610\n",
       "std       13.006024\n",
       "min        0.000000\n",
       "25%        7.000000\n",
       "50%       16.000000\n",
       "75%       27.000000\n",
       "max       60.000000\n",
       "Name: yrs_service, dtype: float64"
      ]
     },
     "execution_count": 57,
     "metadata": {},
     "output_type": "execute_result"
    }
   ],
   "source": [
    "# Pandas Series, just like DataFrames, can take on a variety of methods \n",
    "# useful for descriptive statistics\n",
    "\n",
    "df['yrs_service'].describe()"
   ]
  },
  {
   "cell_type": "code",
   "execution_count": 58,
   "metadata": {},
   "outputs": [
    {
     "data": {
      "text/plain": [
       "17.614609571788414"
      ]
     },
     "execution_count": 58,
     "metadata": {},
     "output_type": "execute_result"
    }
   ],
   "source": [
    "# Calculate the average\n",
    "\n",
    "df['yrs_service'].mean()"
   ]
  },
  {
   "cell_type": "code",
   "execution_count": 63,
   "metadata": {},
   "outputs": [
    {
     "data": {
      "text/plain": [
       "16.0"
      ]
     },
     "execution_count": 63,
     "metadata": {},
     "output_type": "execute_result"
    }
   ],
   "source": [
    "# PRACTICE\n",
    "# Identify the median of \"yrs_services\" in the data\n",
    "\n",
    "df['yrs_service'].median()"
   ]
  },
  {
   "cell_type": "code",
   "execution_count": 59,
   "metadata": {},
   "outputs": [
    {
     "data": {
      "text/plain": [
       "13.006023785473102"
      ]
     },
     "execution_count": 59,
     "metadata": {},
     "output_type": "execute_result"
    }
   ],
   "source": [
    "# Calculate the standard deviation\n",
    "\n",
    "df['yrs_service'].std()"
   ]
  },
  {
   "cell_type": "code",
   "execution_count": 64,
   "metadata": {},
   "outputs": [
    {
     "data": {
      "text/plain": [
       "0"
      ]
     },
     "execution_count": 64,
     "metadata": {},
     "output_type": "execute_result"
    }
   ],
   "source": [
    "# Minimum value\n",
    "\n",
    "df['yrs_service'].min()"
   ]
  },
  {
   "cell_type": "code",
   "execution_count": 66,
   "metadata": {},
   "outputs": [
    {
     "data": {
      "text/plain": [
       "60"
      ]
     },
     "execution_count": 66,
     "metadata": {},
     "output_type": "execute_result"
    }
   ],
   "source": [
    "# PRACTICE\n",
    "# Maximum value\n",
    "\n",
    "df['yrs_service'].max()"
   ]
  },
  {
   "cell_type": "code",
   "execution_count": 67,
   "metadata": {},
   "outputs": [
    {
     "data": {
      "text/plain": [
       "7.0"
      ]
     },
     "execution_count": 67,
     "metadata": {},
     "output_type": "execute_result"
    }
   ],
   "source": [
    "# Identify the value at the specified quantile/percentile point \n",
    "# (measured from 0.0 to 1.0)\n",
    "\n",
    "df['yrs_service'].quantile( 0.25 )"
   ]
  },
  {
   "cell_type": "code",
   "execution_count": 69,
   "metadata": {},
   "outputs": [
    {
     "data": {
      "text/plain": [
       "27.0"
      ]
     },
     "execution_count": 69,
     "metadata": {},
     "output_type": "execute_result"
    }
   ],
   "source": [
    "# PRACTICE\n",
    "# Identify the value at the 0.75 quantile point.\n",
    "\n",
    "df['yrs_service'].quantile( 0.75 )"
   ]
  },
  {
   "cell_type": "code",
   "execution_count": 70,
   "metadata": {},
   "outputs": [
    {
     "data": {
      "text/plain": [
       "0.25     7.0\n",
       "0.75    27.0\n",
       "Name: yrs_service, dtype: float64"
      ]
     },
     "execution_count": 70,
     "metadata": {},
     "output_type": "execute_result"
    }
   ],
   "source": [
    "# Use brackets and commans to identify a list of quantile levels. \n",
    "# e.g.  lists  -->  [... , ... , ...]\n",
    "# e.g.  df['yrs_service'].quantile([... , ... , ...])\n",
    "\n",
    "df['yrs_service'].quantile( [ 0.25, 0.75 ] )"
   ]
  },
  {
   "cell_type": "code",
   "execution_count": 72,
   "metadata": {},
   "outputs": [],
   "source": [
    "# Pandas can not readily calculate all statistical measures that may be of value to you.\n",
    "# Many other modules exist to help with these needs.  SciPy is one of the single most robust\n",
    "# and well maintained scientific and statistical modules in the Python ecosystem.\n",
    "\n",
    "import scipy.stats as stats"
   ]
  },
  {
   "cell_type": "code",
   "execution_count": 73,
   "metadata": {},
   "outputs": [],
   "source": [
    "# Now that we're using a different module to call statistical functions, we need to change our syntax.\n",
    "\n",
    "# EXAMPLE SYNTAX: abbrev.function(...)\n",
    "# EXAMPLE SYNTAX: stats.function(dataframe['variableName']"
   ]
  },
  {
   "cell_type": "code",
   "execution_count": 74,
   "metadata": {},
   "outputs": [
    {
     "data": {
      "text/plain": [
       "0.6481088240680348"
      ]
     },
     "execution_count": 74,
     "metadata": {},
     "output_type": "execute_result"
    }
   ],
   "source": [
    "# Calculate the \"skew\" of a distribution\n",
    "\n",
    "stats.skew( df['yrs_service'] )"
   ]
  },
  {
   "cell_type": "code",
   "execution_count": 75,
   "metadata": {},
   "outputs": [
    {
     "data": {
      "text/plain": [
       "0.7118657337591157"
      ]
     },
     "execution_count": 75,
     "metadata": {},
     "output_type": "execute_result"
    }
   ],
   "source": [
    "# PRACTICE - Calculate the skew for the column \"salary\"\n",
    "\n",
    "stats.skew( df['salary'] )"
   ]
  },
  {
   "cell_type": "code",
   "execution_count": 76,
   "metadata": {},
   "outputs": [
    {
     "data": {
      "text/plain": [
       "-0.32259018904703085"
      ]
     },
     "execution_count": 76,
     "metadata": {},
     "output_type": "execute_result"
    }
   ],
   "source": [
    "# Calcuate the \"kurtosis\" of a distribution\n",
    "\n",
    "stats.kurtosis( df['yrs_service'] )"
   ]
  },
  {
   "cell_type": "code",
   "execution_count": 77,
   "metadata": {
    "scrolled": true
   },
   "outputs": [
    {
     "data": {
      "text/plain": [
       "\u001b[1;31mSignature:\u001b[0m \u001b[0mstats\u001b[0m\u001b[1;33m.\u001b[0m\u001b[0mkurtosis\u001b[0m\u001b[1;33m(\u001b[0m\u001b[0ma\u001b[0m\u001b[1;33m,\u001b[0m \u001b[0maxis\u001b[0m\u001b[1;33m=\u001b[0m\u001b[1;36m0\u001b[0m\u001b[1;33m,\u001b[0m \u001b[0mfisher\u001b[0m\u001b[1;33m=\u001b[0m\u001b[1;32mTrue\u001b[0m\u001b[1;33m,\u001b[0m \u001b[0mbias\u001b[0m\u001b[1;33m=\u001b[0m\u001b[1;32mTrue\u001b[0m\u001b[1;33m,\u001b[0m \u001b[0mnan_policy\u001b[0m\u001b[1;33m=\u001b[0m\u001b[1;34m'propagate'\u001b[0m\u001b[1;33m)\u001b[0m\u001b[1;33m\u001b[0m\u001b[1;33m\u001b[0m\u001b[0m\n",
       "\u001b[1;31mDocstring:\u001b[0m\n",
       "Compute the kurtosis (Fisher or Pearson) of a dataset.\n",
       "\n",
       "Kurtosis is the fourth central moment divided by the square of the\n",
       "variance. If Fisher's definition is used, then 3.0 is subtracted from\n",
       "the result to give 0.0 for a normal distribution.\n",
       "\n",
       "If bias is False then the kurtosis is calculated using k statistics to\n",
       "eliminate bias coming from biased moment estimators\n",
       "\n",
       "Use `kurtosistest` to see if result is close enough to normal.\n",
       "\n",
       "Parameters\n",
       "----------\n",
       "a : array\n",
       "    Data for which the kurtosis is calculated.\n",
       "axis : int or None, optional\n",
       "    Axis along which the kurtosis is calculated. Default is 0.\n",
       "    If None, compute over the whole array `a`.\n",
       "fisher : bool, optional\n",
       "    If True, Fisher's definition is used (normal ==> 0.0). If False,\n",
       "    Pearson's definition is used (normal ==> 3.0).\n",
       "bias : bool, optional\n",
       "    If False, then the calculations are corrected for statistical bias.\n",
       "nan_policy : {'propagate', 'raise', 'omit'}, optional\n",
       "    Defines how to handle when input contains nan. 'propagate' returns nan,\n",
       "    'raise' throws an error, 'omit' performs the calculations ignoring nan\n",
       "    values. Default is 'propagate'.\n",
       "\n",
       "Returns\n",
       "-------\n",
       "kurtosis : array\n",
       "    The kurtosis of values along an axis. If all values are equal,\n",
       "    return -3 for Fisher's definition and 0 for Pearson's definition.\n",
       "\n",
       "References\n",
       "----------\n",
       ".. [1] Zwillinger, D. and Kokoska, S. (2000). CRC Standard\n",
       "   Probability and Statistics Tables and Formulae. Chapman & Hall: New\n",
       "   York. 2000.\n",
       "\n",
       "Examples\n",
       "--------\n",
       "In Fisher's definiton, the kurtosis of the normal distribution is zero.\n",
       "In the following example, the kurtosis is close to zero, because it was\n",
       "calculated from the dataset, not from the continuous distribution.\n",
       "\n",
       ">>> from scipy.stats import norm, kurtosis\n",
       ">>> data = norm.rvs(size=1000, random_state=3)\n",
       ">>> kurtosis(data)\n",
       "-0.06928694200380558\n",
       "\n",
       "The distribution with a higher kurtosis has a heavier tail.\n",
       "The zero valued kurtosis of the normal distribution in Fisher's definition\n",
       "can serve as a reference point.\n",
       "\n",
       ">>> import matplotlib.pyplot as plt\n",
       ">>> import scipy.stats as stats\n",
       ">>> from scipy.stats import kurtosis\n",
       "\n",
       ">>> x = np.linspace(-5, 5, 100)\n",
       ">>> ax = plt.subplot()\n",
       ">>> distnames = ['laplace', 'norm', 'uniform']\n",
       "\n",
       ">>> for distname in distnames:\n",
       "...     if distname == 'uniform':\n",
       "...         dist = getattr(stats, distname)(loc=-2, scale=4)\n",
       "...     else:\n",
       "...         dist = getattr(stats, distname)\n",
       "...     data = dist.rvs(size=1000)\n",
       "...     kur = kurtosis(data, fisher=True)\n",
       "...     y = dist.pdf(x)\n",
       "...     ax.plot(x, y, label=\"{}, {}\".format(distname, round(kur, 3)))\n",
       "...     ax.legend()\n",
       "\n",
       "The Laplace distribution has a heavier tail than the normal distribution.\n",
       "The uniform distribution (which has negative kurtosis) has the thinnest\n",
       "tail.\n",
       "\u001b[1;31mFile:\u001b[0m      c:\\users\\lynse\\anaconda3\\lib\\site-packages\\scipy\\stats\\stats.py\n",
       "\u001b[1;31mType:\u001b[0m      function\n"
      ]
     },
     "metadata": {},
     "output_type": "display_data"
    }
   ],
   "source": [
    "# Many statistical measures have different formulations, assumptions, and requirements.\n",
    "# Always check the documentation to make sure you are getting the outputs you expect.\n",
    "\n",
    "?stats.kurtosis"
   ]
  },
  {
   "cell_type": "code",
   "execution_count": null,
   "metadata": {},
   "outputs": [],
   "source": [
    "# Different methods apply differently to a Series depending on what type of data is contained\n",
    "# therein. For categorical data in particular, there are a few nuances and additional functions \n",
    "# you will find useful."
   ]
  },
  {
   "cell_type": "code",
   "execution_count": 78,
   "metadata": {},
   "outputs": [
    {
     "data": {
      "text/plain": [
       "count     397\n",
       "unique      2\n",
       "top         B\n",
       "freq      216\n",
       "Name: discipline, dtype: object"
      ]
     },
     "execution_count": 78,
     "metadata": {},
     "output_type": "execute_result"
    }
   ],
   "source": [
    "# The Pandas method 'describe' will work when individual categorical variables are specified.\n",
    "# The results will only provide a count of all samples, the number of unique levels/factors/categories\n",
    "# present in the data, the most frequent level, and the frequency of the most frequent level.\n",
    "\n",
    "df['discipline'].describe()"
   ]
  },
  {
   "cell_type": "code",
   "execution_count": 79,
   "metadata": {},
   "outputs": [
    {
     "data": {
      "text/plain": [
       "B    216\n",
       "A    181\n",
       "Name: discipline, dtype: int64"
      ]
     },
     "execution_count": 79,
     "metadata": {},
     "output_type": "execute_result"
    }
   ],
   "source": [
    "# 'value_counts' gives a level-by-level frequency count of each unique value\n",
    "\n",
    "df['discipline'].value_counts()"
   ]
  },
  {
   "cell_type": "code",
   "execution_count": 80,
   "metadata": {},
   "outputs": [
    {
     "data": {
      "text/plain": [
       "B    0.544081\n",
       "A    0.455919\n",
       "Name: discipline, dtype: float64"
      ]
     },
     "execution_count": 80,
     "metadata": {},
     "output_type": "execute_result"
    }
   ],
   "source": [
    "# using '...value_counts(normalize=True)' will return the proportion of the dataset represented\n",
    "# by each categorical level\n",
    "\n",
    "df['discipline'].value_counts(normalize=True)"
   ]
  },
  {
   "cell_type": "markdown",
   "metadata": {},
   "source": [
    "# Part 5 - Indexing & Selecting Samples"
   ]
  },
  {
   "cell_type": "code",
   "execution_count": 81,
   "metadata": {},
   "outputs": [
    {
     "data": {
      "text/plain": [
       "3     115000\n",
       "4     141500\n",
       "5      97000\n",
       "6     175000\n",
       "7     147765\n",
       "8     119250\n",
       "9     129000\n",
       "10    119800\n",
       "11     79800\n",
       "12     77700\n",
       "13     78000\n",
       "14    104800\n",
       "15    117150\n",
       "16    101000\n",
       "17    103450\n",
       "Name: salary, dtype: int64"
      ]
     },
     "execution_count": 81,
     "metadata": {},
     "output_type": "execute_result"
    }
   ],
   "source": [
    "# Lastly, we will start to perform what is referred to as\n",
    "# \"indexing\" our dataframe. In short, this means selecting specific rows \n",
    "# and columns from the dataframe.\n",
    "\n",
    "# Generally speaking, the way you index a DataFrame object follows this progression:\n",
    "# df                      call the whole dataframe\n",
    "# df.loc                  using df, add the location (loc) method\n",
    "# df.loc[:,:]             using df and the loc method, add [:,:] to select all rows and all columns\n",
    "# df.loc[rows,columns]    using df with loc specify which rows and which columns\n",
    "\n",
    "\n",
    "# General syntax example:                       dataframeObject.loc[ rows , columns  ]\n",
    "\n",
    "# Rows 0 to 15, column \"salary\"                  df.loc[ 0:15 , \"salary\" ]\n",
    "\n",
    "# Rows 44 to 46, columns \"salary\" and \"sex\"      df.loc[ 44:46 , [\"salary\",\"sex\"] ]\n",
    "\n",
    "# For non-consecutive rows...\n",
    "# Rows 3, 7, 11, 13, 17 and\n",
    "# columns \"salary\" and \"rank\"               df.loc[ [3,7,11,13,17]  , [\"salary\",\"rank\"]  ]\n",
    "\n",
    "# Example! Rows 3-17, column \"salary\"\n",
    "df.loc[ 3:17 , \"salary\" ]"
   ]
  },
  {
   "cell_type": "code",
   "execution_count": 82,
   "metadata": {},
   "outputs": [
    {
     "data": {
      "text/html": [
       "<div>\n",
       "<style scoped>\n",
       "    .dataframe tbody tr th:only-of-type {\n",
       "        vertical-align: middle;\n",
       "    }\n",
       "\n",
       "    .dataframe tbody tr th {\n",
       "        vertical-align: top;\n",
       "    }\n",
       "\n",
       "    .dataframe thead th {\n",
       "        text-align: right;\n",
       "    }\n",
       "</style>\n",
       "<table border=\"1\" class=\"dataframe\">\n",
       "  <thead>\n",
       "    <tr style=\"text-align: right;\">\n",
       "      <th></th>\n",
       "      <th>salary</th>\n",
       "      <th>rank</th>\n",
       "    </tr>\n",
       "  </thead>\n",
       "  <tbody>\n",
       "    <tr>\n",
       "      <th>3</th>\n",
       "      <td>115000</td>\n",
       "      <td>Prof</td>\n",
       "    </tr>\n",
       "    <tr>\n",
       "      <th>4</th>\n",
       "      <td>141500</td>\n",
       "      <td>Prof</td>\n",
       "    </tr>\n",
       "    <tr>\n",
       "      <th>5</th>\n",
       "      <td>97000</td>\n",
       "      <td>AssocProf</td>\n",
       "    </tr>\n",
       "    <tr>\n",
       "      <th>6</th>\n",
       "      <td>175000</td>\n",
       "      <td>Prof</td>\n",
       "    </tr>\n",
       "    <tr>\n",
       "      <th>7</th>\n",
       "      <td>147765</td>\n",
       "      <td>Prof</td>\n",
       "    </tr>\n",
       "    <tr>\n",
       "      <th>8</th>\n",
       "      <td>119250</td>\n",
       "      <td>Prof</td>\n",
       "    </tr>\n",
       "    <tr>\n",
       "      <th>9</th>\n",
       "      <td>129000</td>\n",
       "      <td>Prof</td>\n",
       "    </tr>\n",
       "    <tr>\n",
       "      <th>10</th>\n",
       "      <td>119800</td>\n",
       "      <td>AssocProf</td>\n",
       "    </tr>\n",
       "    <tr>\n",
       "      <th>11</th>\n",
       "      <td>79800</td>\n",
       "      <td>AsstProf</td>\n",
       "    </tr>\n",
       "    <tr>\n",
       "      <th>12</th>\n",
       "      <td>77700</td>\n",
       "      <td>AsstProf</td>\n",
       "    </tr>\n",
       "    <tr>\n",
       "      <th>13</th>\n",
       "      <td>78000</td>\n",
       "      <td>AsstProf</td>\n",
       "    </tr>\n",
       "    <tr>\n",
       "      <th>14</th>\n",
       "      <td>104800</td>\n",
       "      <td>Prof</td>\n",
       "    </tr>\n",
       "    <tr>\n",
       "      <th>15</th>\n",
       "      <td>117150</td>\n",
       "      <td>Prof</td>\n",
       "    </tr>\n",
       "    <tr>\n",
       "      <th>16</th>\n",
       "      <td>101000</td>\n",
       "      <td>Prof</td>\n",
       "    </tr>\n",
       "    <tr>\n",
       "      <th>17</th>\n",
       "      <td>103450</td>\n",
       "      <td>Prof</td>\n",
       "    </tr>\n",
       "  </tbody>\n",
       "</table>\n",
       "</div>"
      ],
      "text/plain": [
       "    salary       rank\n",
       "3   115000       Prof\n",
       "4   141500       Prof\n",
       "5    97000  AssocProf\n",
       "6   175000       Prof\n",
       "7   147765       Prof\n",
       "8   119250       Prof\n",
       "9   129000       Prof\n",
       "10  119800  AssocProf\n",
       "11   79800   AsstProf\n",
       "12   77700   AsstProf\n",
       "13   78000   AsstProf\n",
       "14  104800       Prof\n",
       "15  117150       Prof\n",
       "16  101000       Prof\n",
       "17  103450       Prof"
      ]
     },
     "execution_count": 82,
     "metadata": {},
     "output_type": "execute_result"
    }
   ],
   "source": [
    "# Rows 3-17, columns \"salary\" and \"rank\"\n",
    "df.loc[ 3:17 , [\"salary\",\"rank\"] ]"
   ]
  },
  {
   "cell_type": "code",
   "execution_count": 83,
   "metadata": {},
   "outputs": [
    {
     "data": {
      "text/html": [
       "<div>\n",
       "<style scoped>\n",
       "    .dataframe tbody tr th:only-of-type {\n",
       "        vertical-align: middle;\n",
       "    }\n",
       "\n",
       "    .dataframe tbody tr th {\n",
       "        vertical-align: top;\n",
       "    }\n",
       "\n",
       "    .dataframe thead th {\n",
       "        text-align: right;\n",
       "    }\n",
       "</style>\n",
       "<table border=\"1\" class=\"dataframe\">\n",
       "  <thead>\n",
       "    <tr style=\"text-align: right;\">\n",
       "      <th></th>\n",
       "      <th>salary</th>\n",
       "      <th>rank</th>\n",
       "    </tr>\n",
       "  </thead>\n",
       "  <tbody>\n",
       "    <tr>\n",
       "      <th>3</th>\n",
       "      <td>115000</td>\n",
       "      <td>Prof</td>\n",
       "    </tr>\n",
       "    <tr>\n",
       "      <th>4</th>\n",
       "      <td>141500</td>\n",
       "      <td>Prof</td>\n",
       "    </tr>\n",
       "    <tr>\n",
       "      <th>5</th>\n",
       "      <td>97000</td>\n",
       "      <td>AssocProf</td>\n",
       "    </tr>\n",
       "    <tr>\n",
       "      <th>6</th>\n",
       "      <td>175000</td>\n",
       "      <td>Prof</td>\n",
       "    </tr>\n",
       "    <tr>\n",
       "      <th>7</th>\n",
       "      <td>147765</td>\n",
       "      <td>Prof</td>\n",
       "    </tr>\n",
       "    <tr>\n",
       "      <th>8</th>\n",
       "      <td>119250</td>\n",
       "      <td>Prof</td>\n",
       "    </tr>\n",
       "    <tr>\n",
       "      <th>9</th>\n",
       "      <td>129000</td>\n",
       "      <td>Prof</td>\n",
       "    </tr>\n",
       "    <tr>\n",
       "      <th>10</th>\n",
       "      <td>119800</td>\n",
       "      <td>AssocProf</td>\n",
       "    </tr>\n",
       "    <tr>\n",
       "      <th>11</th>\n",
       "      <td>79800</td>\n",
       "      <td>AsstProf</td>\n",
       "    </tr>\n",
       "    <tr>\n",
       "      <th>12</th>\n",
       "      <td>77700</td>\n",
       "      <td>AsstProf</td>\n",
       "    </tr>\n",
       "    <tr>\n",
       "      <th>13</th>\n",
       "      <td>78000</td>\n",
       "      <td>AsstProf</td>\n",
       "    </tr>\n",
       "    <tr>\n",
       "      <th>14</th>\n",
       "      <td>104800</td>\n",
       "      <td>Prof</td>\n",
       "    </tr>\n",
       "    <tr>\n",
       "      <th>15</th>\n",
       "      <td>117150</td>\n",
       "      <td>Prof</td>\n",
       "    </tr>\n",
       "    <tr>\n",
       "      <th>16</th>\n",
       "      <td>101000</td>\n",
       "      <td>Prof</td>\n",
       "    </tr>\n",
       "    <tr>\n",
       "      <th>17</th>\n",
       "      <td>103450</td>\n",
       "      <td>Prof</td>\n",
       "    </tr>\n",
       "  </tbody>\n",
       "</table>\n",
       "</div>"
      ],
      "text/plain": [
       "    salary       rank\n",
       "3   115000       Prof\n",
       "4   141500       Prof\n",
       "5    97000  AssocProf\n",
       "6   175000       Prof\n",
       "7   147765       Prof\n",
       "8   119250       Prof\n",
       "9   129000       Prof\n",
       "10  119800  AssocProf\n",
       "11   79800   AsstProf\n",
       "12   77700   AsstProf\n",
       "13   78000   AsstProf\n",
       "14  104800       Prof\n",
       "15  117150       Prof\n",
       "16  101000       Prof\n",
       "17  103450       Prof"
      ]
     },
     "execution_count": 83,
     "metadata": {},
     "output_type": "execute_result"
    }
   ],
   "source": [
    "# Rows 3-17, columns \"salary\" and \"rank\"\n",
    "df.loc[ 3:17 , [\"salary\",\"rank\"] ]"
   ]
  },
  {
   "cell_type": "code",
   "execution_count": 84,
   "metadata": {},
   "outputs": [
    {
     "data": {
      "text/html": [
       "<div>\n",
       "<style scoped>\n",
       "    .dataframe tbody tr th:only-of-type {\n",
       "        vertical-align: middle;\n",
       "    }\n",
       "\n",
       "    .dataframe tbody tr th {\n",
       "        vertical-align: top;\n",
       "    }\n",
       "\n",
       "    .dataframe thead th {\n",
       "        text-align: right;\n",
       "    }\n",
       "</style>\n",
       "<table border=\"1\" class=\"dataframe\">\n",
       "  <thead>\n",
       "    <tr style=\"text-align: right;\">\n",
       "      <th></th>\n",
       "      <th>salary</th>\n",
       "      <th>rank</th>\n",
       "    </tr>\n",
       "  </thead>\n",
       "  <tbody>\n",
       "    <tr>\n",
       "      <th>3</th>\n",
       "      <td>115000</td>\n",
       "      <td>Prof</td>\n",
       "    </tr>\n",
       "    <tr>\n",
       "      <th>7</th>\n",
       "      <td>147765</td>\n",
       "      <td>Prof</td>\n",
       "    </tr>\n",
       "    <tr>\n",
       "      <th>7</th>\n",
       "      <td>147765</td>\n",
       "      <td>Prof</td>\n",
       "    </tr>\n",
       "    <tr>\n",
       "      <th>13</th>\n",
       "      <td>78000</td>\n",
       "      <td>AsstProf</td>\n",
       "    </tr>\n",
       "    <tr>\n",
       "      <th>19</th>\n",
       "      <td>137000</td>\n",
       "      <td>Prof</td>\n",
       "    </tr>\n",
       "  </tbody>\n",
       "</table>\n",
       "</div>"
      ],
      "text/plain": [
       "    salary      rank\n",
       "3   115000      Prof\n",
       "7   147765      Prof\n",
       "7   147765      Prof\n",
       "13   78000  AsstProf\n",
       "19  137000      Prof"
      ]
     },
     "execution_count": 84,
     "metadata": {},
     "output_type": "execute_result"
    }
   ],
   "source": [
    "# Rows 3, 7, 13, and 19; columns \"salary\" and \"rank\"\n",
    "df.loc[ [3,7,7,13,19] , [\"salary\",\"rank\"] ]"
   ]
  },
  {
   "cell_type": "code",
   "execution_count": 85,
   "metadata": {},
   "outputs": [
    {
     "data": {
      "text/plain": [
       "10    Male\n",
       "11    Male\n",
       "12    Male\n",
       "13    Male\n",
       "14    Male\n",
       "15    Male\n",
       "Name: sex, dtype: object"
      ]
     },
     "execution_count": 85,
     "metadata": {},
     "output_type": "execute_result"
    }
   ],
   "source": [
    "# PRACTICE - Using the df object, locate (loc) data for the \n",
    "# rows 10 to 15 and the column \"sex\".\n",
    "\n",
    "df.loc[ 10:15 , \"sex\" ]"
   ]
  },
  {
   "cell_type": "code",
   "execution_count": 86,
   "metadata": {},
   "outputs": [
    {
     "data": {
      "text/plain": [
       "15    117150\n",
       "16    101000\n",
       "17    103450\n",
       "18    124750\n",
       "19    137000\n",
       "20     89565\n",
       "21    102580\n",
       "22     93904\n",
       "23    113068\n",
       "24     74830\n",
       "25    106294\n",
       "Name: salary, dtype: int64"
      ]
     },
     "execution_count": 86,
     "metadata": {},
     "output_type": "execute_result"
    }
   ],
   "source": [
    "# PRACTICE - Using the df object, locate (loc) data for the \n",
    "# rows 15 to 25, and the column \"salary\".\n",
    "\n",
    "df.loc[ 15:25 , \"salary\" ]"
   ]
  },
  {
   "cell_type": "code",
   "execution_count": 87,
   "metadata": {},
   "outputs": [
    {
     "data": {
      "text/html": [
       "<div>\n",
       "<style scoped>\n",
       "    .dataframe tbody tr th:only-of-type {\n",
       "        vertical-align: middle;\n",
       "    }\n",
       "\n",
       "    .dataframe tbody tr th {\n",
       "        vertical-align: top;\n",
       "    }\n",
       "\n",
       "    .dataframe thead th {\n",
       "        text-align: right;\n",
       "    }\n",
       "</style>\n",
       "<table border=\"1\" class=\"dataframe\">\n",
       "  <thead>\n",
       "    <tr style=\"text-align: right;\">\n",
       "      <th></th>\n",
       "      <th>salary</th>\n",
       "      <th>yrs_since_phd</th>\n",
       "    </tr>\n",
       "  </thead>\n",
       "  <tbody>\n",
       "    <tr>\n",
       "      <th>45</th>\n",
       "      <td>114778</td>\n",
       "      <td>25</td>\n",
       "    </tr>\n",
       "    <tr>\n",
       "      <th>46</th>\n",
       "      <td>98193</td>\n",
       "      <td>40</td>\n",
       "    </tr>\n",
       "    <tr>\n",
       "      <th>47</th>\n",
       "      <td>151768</td>\n",
       "      <td>23</td>\n",
       "    </tr>\n",
       "    <tr>\n",
       "      <th>48</th>\n",
       "      <td>140096</td>\n",
       "      <td>25</td>\n",
       "    </tr>\n",
       "    <tr>\n",
       "      <th>49</th>\n",
       "      <td>70768</td>\n",
       "      <td>1</td>\n",
       "    </tr>\n",
       "    <tr>\n",
       "      <th>50</th>\n",
       "      <td>126621</td>\n",
       "      <td>28</td>\n",
       "    </tr>\n",
       "    <tr>\n",
       "      <th>51</th>\n",
       "      <td>108875</td>\n",
       "      <td>12</td>\n",
       "    </tr>\n",
       "    <tr>\n",
       "      <th>52</th>\n",
       "      <td>74692</td>\n",
       "      <td>11</td>\n",
       "    </tr>\n",
       "    <tr>\n",
       "      <th>53</th>\n",
       "      <td>106639</td>\n",
       "      <td>16</td>\n",
       "    </tr>\n",
       "    <tr>\n",
       "      <th>54</th>\n",
       "      <td>103760</td>\n",
       "      <td>12</td>\n",
       "    </tr>\n",
       "    <tr>\n",
       "      <th>55</th>\n",
       "      <td>83900</td>\n",
       "      <td>14</td>\n",
       "    </tr>\n",
       "  </tbody>\n",
       "</table>\n",
       "</div>"
      ],
      "text/plain": [
       "    salary  yrs_since_phd\n",
       "45  114778             25\n",
       "46   98193             40\n",
       "47  151768             23\n",
       "48  140096             25\n",
       "49   70768              1\n",
       "50  126621             28\n",
       "51  108875             12\n",
       "52   74692             11\n",
       "53  106639             16\n",
       "54  103760             12\n",
       "55   83900             14"
      ]
     },
     "execution_count": 87,
     "metadata": {},
     "output_type": "execute_result"
    }
   ],
   "source": [
    "# PRACTICE - Using the df object, locate (loc) data for the \n",
    "# rows 45 to 55, and the columns \"salary\" and \"yrs_since_phd\".\n",
    "\n",
    "df.loc[ 45:55 , [\"salary\",\"yrs_since_phd\"] ]"
   ]
  },
  {
   "cell_type": "code",
   "execution_count": 88,
   "metadata": {},
   "outputs": [
    {
     "data": {
      "text/html": [
       "<div>\n",
       "<style scoped>\n",
       "    .dataframe tbody tr th:only-of-type {\n",
       "        vertical-align: middle;\n",
       "    }\n",
       "\n",
       "    .dataframe tbody tr th {\n",
       "        vertical-align: top;\n",
       "    }\n",
       "\n",
       "    .dataframe thead th {\n",
       "        text-align: right;\n",
       "    }\n",
       "</style>\n",
       "<table border=\"1\" class=\"dataframe\">\n",
       "  <thead>\n",
       "    <tr style=\"text-align: right;\">\n",
       "      <th></th>\n",
       "      <th>salary</th>\n",
       "      <th>yrs_since_phd</th>\n",
       "    </tr>\n",
       "  </thead>\n",
       "  <tbody>\n",
       "    <tr>\n",
       "      <th>101</th>\n",
       "      <td>126933</td>\n",
       "      <td>28</td>\n",
       "    </tr>\n",
       "    <tr>\n",
       "      <th>202</th>\n",
       "      <td>160400</td>\n",
       "      <td>28</td>\n",
       "    </tr>\n",
       "    <tr>\n",
       "      <th>303</th>\n",
       "      <td>105260</td>\n",
       "      <td>14</td>\n",
       "    </tr>\n",
       "  </tbody>\n",
       "</table>\n",
       "</div>"
      ],
      "text/plain": [
       "     salary  yrs_since_phd\n",
       "101  126933             28\n",
       "202  160400             28\n",
       "303  105260             14"
      ]
     },
     "execution_count": 88,
     "metadata": {},
     "output_type": "execute_result"
    }
   ],
   "source": [
    "# PRACTICE - Using the df object, locate (loc) data for the \n",
    "# non-consecutive rows 101, 202, and 303 and the columns \"salary\" and \"yrs_since_phd\".\n",
    "\n",
    "df.loc[ [101,202,303] , [\"salary\" , \"yrs_since_phd\"] ]"
   ]
  },
  {
   "cell_type": "code",
   "execution_count": 92,
   "metadata": {},
   "outputs": [],
   "source": [
    "# PRACTICE - From scratch, using the df object, locate (loc) \n",
    "# data for the rows from 3145 to 3155 and the columns \"yrs_since_phd\" and \"sex\"\n",
    "\n"
   ]
  },
  {
   "cell_type": "markdown",
   "metadata": {},
   "source": [
    "# Part 6 - SAVE YOUR WORK!"
   ]
  },
  {
   "cell_type": "code",
   "execution_count": null,
   "metadata": {},
   "outputs": [],
   "source": [
    "# Finally, after all of that hard work modifying, transforming, and manipulating your data\n",
    "# do not forget to save your work!  This is easy with Pandas.  You simply use the df object\n",
    "# and append the .to_csv(...) method to it.  You will need to provide a filename and any other options\n",
    "# that are relevant to your data and needs."
   ]
  },
  {
   "cell_type": "code",
   "execution_count": 93,
   "metadata": {},
   "outputs": [],
   "source": [
    "# Create a new_df object, representing a subset of the original df dataset.\n",
    "new_df = df.loc[ [3,5,7,9,11] , [\"salary\",\"rank\",\"yrs_service\",\"sex\"] ]"
   ]
  },
  {
   "cell_type": "code",
   "execution_count": 94,
   "metadata": {},
   "outputs": [
    {
     "data": {
      "text/html": [
       "<div>\n",
       "<style scoped>\n",
       "    .dataframe tbody tr th:only-of-type {\n",
       "        vertical-align: middle;\n",
       "    }\n",
       "\n",
       "    .dataframe tbody tr th {\n",
       "        vertical-align: top;\n",
       "    }\n",
       "\n",
       "    .dataframe thead th {\n",
       "        text-align: right;\n",
       "    }\n",
       "</style>\n",
       "<table border=\"1\" class=\"dataframe\">\n",
       "  <thead>\n",
       "    <tr style=\"text-align: right;\">\n",
       "      <th></th>\n",
       "      <th>salary</th>\n",
       "      <th>rank</th>\n",
       "      <th>yrs_service</th>\n",
       "      <th>sex</th>\n",
       "    </tr>\n",
       "  </thead>\n",
       "  <tbody>\n",
       "    <tr>\n",
       "      <th>3</th>\n",
       "      <td>115000</td>\n",
       "      <td>Prof</td>\n",
       "      <td>39</td>\n",
       "      <td>Male</td>\n",
       "    </tr>\n",
       "    <tr>\n",
       "      <th>5</th>\n",
       "      <td>97000</td>\n",
       "      <td>AssocProf</td>\n",
       "      <td>6</td>\n",
       "      <td>Male</td>\n",
       "    </tr>\n",
       "    <tr>\n",
       "      <th>7</th>\n",
       "      <td>147765</td>\n",
       "      <td>Prof</td>\n",
       "      <td>45</td>\n",
       "      <td>Male</td>\n",
       "    </tr>\n",
       "    <tr>\n",
       "      <th>9</th>\n",
       "      <td>129000</td>\n",
       "      <td>Prof</td>\n",
       "      <td>18</td>\n",
       "      <td>Female</td>\n",
       "    </tr>\n",
       "    <tr>\n",
       "      <th>11</th>\n",
       "      <td>79800</td>\n",
       "      <td>AsstProf</td>\n",
       "      <td>2</td>\n",
       "      <td>Male</td>\n",
       "    </tr>\n",
       "  </tbody>\n",
       "</table>\n",
       "</div>"
      ],
      "text/plain": [
       "    salary       rank  yrs_service     sex\n",
       "3   115000       Prof           39    Male\n",
       "5    97000  AssocProf            6    Male\n",
       "7   147765       Prof           45    Male\n",
       "9   129000       Prof           18  Female\n",
       "11   79800   AsstProf            2    Male"
      ]
     },
     "execution_count": 94,
     "metadata": {},
     "output_type": "execute_result"
    }
   ],
   "source": [
    "new_df"
   ]
  },
  {
   "cell_type": "code",
   "execution_count": 95,
   "metadata": {},
   "outputs": [],
   "source": [
    "# Export data using .to_csv(...)\n",
    "new_df.to_csv(\"exported_data.csv\", index=False)"
   ]
  },
  {
   "cell_type": "code",
   "execution_count": null,
   "metadata": {},
   "outputs": [],
   "source": []
  }
 ],
 "metadata": {
  "kernelspec": {
   "display_name": "Python 3",
   "language": "python",
   "name": "python3"
  },
  "language_info": {
   "codemirror_mode": {
    "name": "ipython",
    "version": 3
   },
   "file_extension": ".py",
   "mimetype": "text/x-python",
   "name": "python",
   "nbconvert_exporter": "python",
   "pygments_lexer": "ipython3",
   "version": "3.8.5"
  }
 },
 "nbformat": 4,
 "nbformat_minor": 4
}
